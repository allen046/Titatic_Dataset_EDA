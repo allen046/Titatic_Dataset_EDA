{
 "cells": [
  {
   "cell_type": "markdown",
   "id": "ddbc21b6",
   "metadata": {},
   "source": [
    "#### To perform EDA of the Titanic Dataset, the following steps were undertaken.\n",
    "- Importing the relevant libraries.\n",
    "- Examining the dataset(Identifying it's shape, datatypes, variables and values inside)\n",
    "- Consolidating the requisite info in a data dictionary \n",
    "- Performed univariate analysis for all variables\n",
    "- Performed bivariate analysis to identify patterns between variables\n",
    "- Performed multivariate analysis to identify correlations between variables\n",
    "- Cleaning the dataset, to take care of missing values in the requisite columns.\n",
    "- Scaling the normalized variable\n",
    "- Identified the number of clusters required\n",
    "- Performed K means clustering to form clusters for the column in which it was performed. "
   ]
  },
  {
   "cell_type": "markdown",
   "id": "86471394",
   "metadata": {},
   "source": [
    "# Importing libraries and loading the dataset"
   ]
  },
  {
   "cell_type": "code",
   "execution_count": 124,
   "id": "1a25d866",
   "metadata": {},
   "outputs": [],
   "source": [
    "#Importing the required libraries\n",
    "import pandas as pd\n",
    "import numpy as np\n",
    "import matplotlib.pyplot as plt\n",
    "import seaborn as sns\n",
    "from IPython.display import Image, display\n",
    "from sklearn.preprocessing import StandardScaler, normalize\n",
    "from sklearn.cluster import KMeans\n",
    "%matplotlib inline"
   ]
  },
  {
   "cell_type": "code",
   "execution_count": 128,
   "id": "3622af68",
   "metadata": {},
   "outputs": [
    {
     "data": {
      "text/html": [
       "<div>\n",
       "<style scoped>\n",
       "    .dataframe tbody tr th:only-of-type {\n",
       "        vertical-align: middle;\n",
       "    }\n",
       "\n",
       "    .dataframe tbody tr th {\n",
       "        vertical-align: top;\n",
       "    }\n",
       "\n",
       "    .dataframe thead th {\n",
       "        text-align: right;\n",
       "    }\n",
       "</style>\n",
       "<table border=\"1\" class=\"dataframe\">\n",
       "  <thead>\n",
       "    <tr style=\"text-align: right;\">\n",
       "      <th></th>\n",
       "      <th>PassengerId</th>\n",
       "      <th>Survived</th>\n",
       "      <th>Pclass</th>\n",
       "      <th>Name</th>\n",
       "      <th>Sex</th>\n",
       "      <th>Age</th>\n",
       "      <th>SibSp</th>\n",
       "      <th>Parch</th>\n",
       "      <th>Ticket</th>\n",
       "      <th>Fare</th>\n",
       "      <th>Cabin</th>\n",
       "      <th>Embarked</th>\n",
       "    </tr>\n",
       "  </thead>\n",
       "  <tbody>\n",
       "    <tr>\n",
       "      <th>0</th>\n",
       "      <td>1</td>\n",
       "      <td>0</td>\n",
       "      <td>3</td>\n",
       "      <td>Braund, Mr. Owen Harris</td>\n",
       "      <td>male</td>\n",
       "      <td>22.0</td>\n",
       "      <td>1</td>\n",
       "      <td>0</td>\n",
       "      <td>A/5 21171</td>\n",
       "      <td>7.2500</td>\n",
       "      <td>NaN</td>\n",
       "      <td>S</td>\n",
       "    </tr>\n",
       "    <tr>\n",
       "      <th>1</th>\n",
       "      <td>2</td>\n",
       "      <td>1</td>\n",
       "      <td>1</td>\n",
       "      <td>Cumings, Mrs. John Bradley (Florence Briggs Th...</td>\n",
       "      <td>female</td>\n",
       "      <td>38.0</td>\n",
       "      <td>1</td>\n",
       "      <td>0</td>\n",
       "      <td>PC 17599</td>\n",
       "      <td>71.2833</td>\n",
       "      <td>C85</td>\n",
       "      <td>C</td>\n",
       "    </tr>\n",
       "    <tr>\n",
       "      <th>2</th>\n",
       "      <td>3</td>\n",
       "      <td>1</td>\n",
       "      <td>3</td>\n",
       "      <td>Heikkinen, Miss. Laina</td>\n",
       "      <td>female</td>\n",
       "      <td>26.0</td>\n",
       "      <td>0</td>\n",
       "      <td>0</td>\n",
       "      <td>STON/O2. 3101282</td>\n",
       "      <td>7.9250</td>\n",
       "      <td>NaN</td>\n",
       "      <td>S</td>\n",
       "    </tr>\n",
       "    <tr>\n",
       "      <th>3</th>\n",
       "      <td>4</td>\n",
       "      <td>1</td>\n",
       "      <td>1</td>\n",
       "      <td>Futrelle, Mrs. Jacques Heath (Lily May Peel)</td>\n",
       "      <td>female</td>\n",
       "      <td>35.0</td>\n",
       "      <td>1</td>\n",
       "      <td>0</td>\n",
       "      <td>113803</td>\n",
       "      <td>53.1000</td>\n",
       "      <td>C123</td>\n",
       "      <td>S</td>\n",
       "    </tr>\n",
       "    <tr>\n",
       "      <th>4</th>\n",
       "      <td>5</td>\n",
       "      <td>0</td>\n",
       "      <td>3</td>\n",
       "      <td>Allen, Mr. William Henry</td>\n",
       "      <td>male</td>\n",
       "      <td>35.0</td>\n",
       "      <td>0</td>\n",
       "      <td>0</td>\n",
       "      <td>373450</td>\n",
       "      <td>8.0500</td>\n",
       "      <td>NaN</td>\n",
       "      <td>S</td>\n",
       "    </tr>\n",
       "  </tbody>\n",
       "</table>\n",
       "</div>"
      ],
      "text/plain": [
       "   PassengerId  Survived  Pclass  \\\n",
       "0            1         0       3   \n",
       "1            2         1       1   \n",
       "2            3         1       3   \n",
       "3            4         1       1   \n",
       "4            5         0       3   \n",
       "\n",
       "                                                Name     Sex   Age  SibSp  \\\n",
       "0                            Braund, Mr. Owen Harris    male  22.0      1   \n",
       "1  Cumings, Mrs. John Bradley (Florence Briggs Th...  female  38.0      1   \n",
       "2                             Heikkinen, Miss. Laina  female  26.0      0   \n",
       "3       Futrelle, Mrs. Jacques Heath (Lily May Peel)  female  35.0      1   \n",
       "4                           Allen, Mr. William Henry    male  35.0      0   \n",
       "\n",
       "   Parch            Ticket     Fare Cabin Embarked  \n",
       "0      0         A/5 21171   7.2500   NaN        S  \n",
       "1      0          PC 17599  71.2833   C85        C  \n",
       "2      0  STON/O2. 3101282   7.9250   NaN        S  \n",
       "3      0            113803  53.1000  C123        S  \n",
       "4      0            373450   8.0500   NaN        S  "
      ]
     },
     "execution_count": 128,
     "metadata": {},
     "output_type": "execute_result"
    }
   ],
   "source": [
    "#Displaying the head of the dataset for preliminary analysis\n",
    "df=pd.read_csv(r'C:\\Users\\allen\\OneDrive\\Documents\\titanic_dataset.csv')\n",
    "df.head()"
   ]
  },
  {
   "cell_type": "code",
   "execution_count": 129,
   "id": "5c0865b9",
   "metadata": {},
   "outputs": [],
   "source": [
    "#setting the index to PassengerId\n",
    "df=df.set_index('PassengerId')\n",
    "\n"
   ]
  },
  {
   "cell_type": "markdown",
   "id": "b466b011",
   "metadata": {},
   "source": [
    "# Inspecting the Dataset "
   ]
  },
  {
   "cell_type": "code",
   "execution_count": 130,
   "id": "c5afaf18",
   "metadata": {},
   "outputs": [
    {
     "data": {
      "text/plain": [
       "(891, 11)"
      ]
     },
     "execution_count": 130,
     "metadata": {},
     "output_type": "execute_result"
    }
   ],
   "source": [
    "#Getting the shape of the dataset\n",
    "df.shape"
   ]
  },
  {
   "cell_type": "markdown",
   "id": "ecd1b095",
   "metadata": {},
   "source": [
    "This indicates there are 891 rows and 11 columns"
   ]
  },
  {
   "cell_type": "code",
   "execution_count": 131,
   "id": "2410d1d1",
   "metadata": {},
   "outputs": [
    {
     "data": {
      "text/html": [
       "<div>\n",
       "<style scoped>\n",
       "    .dataframe tbody tr th:only-of-type {\n",
       "        vertical-align: middle;\n",
       "    }\n",
       "\n",
       "    .dataframe tbody tr th {\n",
       "        vertical-align: top;\n",
       "    }\n",
       "\n",
       "    .dataframe thead th {\n",
       "        text-align: right;\n",
       "    }\n",
       "</style>\n",
       "<table border=\"1\" class=\"dataframe\">\n",
       "  <thead>\n",
       "    <tr style=\"text-align: right;\">\n",
       "      <th></th>\n",
       "      <th>Survived</th>\n",
       "      <th>Pclass</th>\n",
       "      <th>Name</th>\n",
       "      <th>Sex</th>\n",
       "      <th>Age</th>\n",
       "      <th>SibSp</th>\n",
       "      <th>Parch</th>\n",
       "      <th>Ticket</th>\n",
       "      <th>Fare</th>\n",
       "      <th>Cabin</th>\n",
       "      <th>Embarked</th>\n",
       "    </tr>\n",
       "    <tr>\n",
       "      <th>PassengerId</th>\n",
       "      <th></th>\n",
       "      <th></th>\n",
       "      <th></th>\n",
       "      <th></th>\n",
       "      <th></th>\n",
       "      <th></th>\n",
       "      <th></th>\n",
       "      <th></th>\n",
       "      <th></th>\n",
       "      <th></th>\n",
       "      <th></th>\n",
       "    </tr>\n",
       "  </thead>\n",
       "  <tbody>\n",
       "    <tr>\n",
       "      <th>1</th>\n",
       "      <td>0</td>\n",
       "      <td>3</td>\n",
       "      <td>Braund, Mr. Owen Harris</td>\n",
       "      <td>male</td>\n",
       "      <td>22.0</td>\n",
       "      <td>1</td>\n",
       "      <td>0</td>\n",
       "      <td>A/5 21171</td>\n",
       "      <td>7.2500</td>\n",
       "      <td>NaN</td>\n",
       "      <td>S</td>\n",
       "    </tr>\n",
       "    <tr>\n",
       "      <th>2</th>\n",
       "      <td>1</td>\n",
       "      <td>1</td>\n",
       "      <td>Cumings, Mrs. John Bradley (Florence Briggs Th...</td>\n",
       "      <td>female</td>\n",
       "      <td>38.0</td>\n",
       "      <td>1</td>\n",
       "      <td>0</td>\n",
       "      <td>PC 17599</td>\n",
       "      <td>71.2833</td>\n",
       "      <td>C85</td>\n",
       "      <td>C</td>\n",
       "    </tr>\n",
       "    <tr>\n",
       "      <th>3</th>\n",
       "      <td>1</td>\n",
       "      <td>3</td>\n",
       "      <td>Heikkinen, Miss. Laina</td>\n",
       "      <td>female</td>\n",
       "      <td>26.0</td>\n",
       "      <td>0</td>\n",
       "      <td>0</td>\n",
       "      <td>STON/O2. 3101282</td>\n",
       "      <td>7.9250</td>\n",
       "      <td>NaN</td>\n",
       "      <td>S</td>\n",
       "    </tr>\n",
       "    <tr>\n",
       "      <th>4</th>\n",
       "      <td>1</td>\n",
       "      <td>1</td>\n",
       "      <td>Futrelle, Mrs. Jacques Heath (Lily May Peel)</td>\n",
       "      <td>female</td>\n",
       "      <td>35.0</td>\n",
       "      <td>1</td>\n",
       "      <td>0</td>\n",
       "      <td>113803</td>\n",
       "      <td>53.1000</td>\n",
       "      <td>C123</td>\n",
       "      <td>S</td>\n",
       "    </tr>\n",
       "    <tr>\n",
       "      <th>5</th>\n",
       "      <td>0</td>\n",
       "      <td>3</td>\n",
       "      <td>Allen, Mr. William Henry</td>\n",
       "      <td>male</td>\n",
       "      <td>35.0</td>\n",
       "      <td>0</td>\n",
       "      <td>0</td>\n",
       "      <td>373450</td>\n",
       "      <td>8.0500</td>\n",
       "      <td>NaN</td>\n",
       "      <td>S</td>\n",
       "    </tr>\n",
       "  </tbody>\n",
       "</table>\n",
       "</div>"
      ],
      "text/plain": [
       "             Survived  Pclass  \\\n",
       "PassengerId                     \n",
       "1                   0       3   \n",
       "2                   1       1   \n",
       "3                   1       3   \n",
       "4                   1       1   \n",
       "5                   0       3   \n",
       "\n",
       "                                                          Name     Sex   Age  \\\n",
       "PassengerId                                                                    \n",
       "1                                      Braund, Mr. Owen Harris    male  22.0   \n",
       "2            Cumings, Mrs. John Bradley (Florence Briggs Th...  female  38.0   \n",
       "3                                       Heikkinen, Miss. Laina  female  26.0   \n",
       "4                 Futrelle, Mrs. Jacques Heath (Lily May Peel)  female  35.0   \n",
       "5                                     Allen, Mr. William Henry    male  35.0   \n",
       "\n",
       "             SibSp  Parch            Ticket     Fare Cabin Embarked  \n",
       "PassengerId                                                          \n",
       "1                1      0         A/5 21171   7.2500   NaN        S  \n",
       "2                1      0          PC 17599  71.2833   C85        C  \n",
       "3                0      0  STON/O2. 3101282   7.9250   NaN        S  \n",
       "4                1      0            113803  53.1000  C123        S  \n",
       "5                0      0            373450   8.0500   NaN        S  "
      ]
     },
     "execution_count": 131,
     "metadata": {},
     "output_type": "execute_result"
    }
   ],
   "source": [
    "df.head()"
   ]
  },
  {
   "cell_type": "code",
   "execution_count": 65,
   "id": "3aa891ea",
   "metadata": {},
   "outputs": [
    {
     "name": "stdout",
     "output_type": "stream",
     "text": [
      "<class 'pandas.core.frame.DataFrame'>\n",
      "Int64Index: 891 entries, 1 to 891\n",
      "Data columns (total 11 columns):\n",
      " #   Column    Non-Null Count  Dtype  \n",
      "---  ------    --------------  -----  \n",
      " 0   Survived  891 non-null    int64  \n",
      " 1   Pclass    891 non-null    int64  \n",
      " 2   Name      891 non-null    object \n",
      " 3   Sex       891 non-null    object \n",
      " 4   Age       714 non-null    float64\n",
      " 5   SibSp     891 non-null    int64  \n",
      " 6   Parch     891 non-null    int64  \n",
      " 7   Ticket    891 non-null    object \n",
      " 8   Fare      891 non-null    float64\n",
      " 9   Cabin     204 non-null    object \n",
      " 10  Embarked  889 non-null    object \n",
      "dtypes: float64(2), int64(4), object(5)\n",
      "memory usage: 83.5+ KB\n"
     ]
    }
   ],
   "source": [
    "#Getting the informartion of the DataFrame\n",
    "df.info()"
   ]
  },
  {
   "cell_type": "code",
   "execution_count": 66,
   "id": "85389be2",
   "metadata": {},
   "outputs": [
    {
     "data": {
      "text/html": [
       "<div>\n",
       "<style scoped>\n",
       "    .dataframe tbody tr th:only-of-type {\n",
       "        vertical-align: middle;\n",
       "    }\n",
       "\n",
       "    .dataframe tbody tr th {\n",
       "        vertical-align: top;\n",
       "    }\n",
       "\n",
       "    .dataframe thead th {\n",
       "        text-align: right;\n",
       "    }\n",
       "</style>\n",
       "<table border=\"1\" class=\"dataframe\">\n",
       "  <thead>\n",
       "    <tr style=\"text-align: right;\">\n",
       "      <th></th>\n",
       "      <th>Survived</th>\n",
       "      <th>Pclass</th>\n",
       "      <th>Age</th>\n",
       "      <th>SibSp</th>\n",
       "      <th>Parch</th>\n",
       "      <th>Fare</th>\n",
       "    </tr>\n",
       "  </thead>\n",
       "  <tbody>\n",
       "    <tr>\n",
       "      <th>count</th>\n",
       "      <td>891.000000</td>\n",
       "      <td>891.000000</td>\n",
       "      <td>714.000000</td>\n",
       "      <td>891.000000</td>\n",
       "      <td>891.000000</td>\n",
       "      <td>891.000000</td>\n",
       "    </tr>\n",
       "    <tr>\n",
       "      <th>mean</th>\n",
       "      <td>0.383838</td>\n",
       "      <td>2.308642</td>\n",
       "      <td>29.699118</td>\n",
       "      <td>0.523008</td>\n",
       "      <td>0.381594</td>\n",
       "      <td>32.204208</td>\n",
       "    </tr>\n",
       "    <tr>\n",
       "      <th>std</th>\n",
       "      <td>0.486592</td>\n",
       "      <td>0.836071</td>\n",
       "      <td>14.526497</td>\n",
       "      <td>1.102743</td>\n",
       "      <td>0.806057</td>\n",
       "      <td>49.693429</td>\n",
       "    </tr>\n",
       "    <tr>\n",
       "      <th>min</th>\n",
       "      <td>0.000000</td>\n",
       "      <td>1.000000</td>\n",
       "      <td>0.420000</td>\n",
       "      <td>0.000000</td>\n",
       "      <td>0.000000</td>\n",
       "      <td>0.000000</td>\n",
       "    </tr>\n",
       "    <tr>\n",
       "      <th>25%</th>\n",
       "      <td>0.000000</td>\n",
       "      <td>2.000000</td>\n",
       "      <td>20.125000</td>\n",
       "      <td>0.000000</td>\n",
       "      <td>0.000000</td>\n",
       "      <td>7.910400</td>\n",
       "    </tr>\n",
       "    <tr>\n",
       "      <th>50%</th>\n",
       "      <td>0.000000</td>\n",
       "      <td>3.000000</td>\n",
       "      <td>28.000000</td>\n",
       "      <td>0.000000</td>\n",
       "      <td>0.000000</td>\n",
       "      <td>14.454200</td>\n",
       "    </tr>\n",
       "    <tr>\n",
       "      <th>75%</th>\n",
       "      <td>1.000000</td>\n",
       "      <td>3.000000</td>\n",
       "      <td>38.000000</td>\n",
       "      <td>1.000000</td>\n",
       "      <td>0.000000</td>\n",
       "      <td>31.000000</td>\n",
       "    </tr>\n",
       "    <tr>\n",
       "      <th>max</th>\n",
       "      <td>1.000000</td>\n",
       "      <td>3.000000</td>\n",
       "      <td>80.000000</td>\n",
       "      <td>8.000000</td>\n",
       "      <td>6.000000</td>\n",
       "      <td>512.329200</td>\n",
       "    </tr>\n",
       "  </tbody>\n",
       "</table>\n",
       "</div>"
      ],
      "text/plain": [
       "         Survived      Pclass         Age       SibSp       Parch        Fare\n",
       "count  891.000000  891.000000  714.000000  891.000000  891.000000  891.000000\n",
       "mean     0.383838    2.308642   29.699118    0.523008    0.381594   32.204208\n",
       "std      0.486592    0.836071   14.526497    1.102743    0.806057   49.693429\n",
       "min      0.000000    1.000000    0.420000    0.000000    0.000000    0.000000\n",
       "25%      0.000000    2.000000   20.125000    0.000000    0.000000    7.910400\n",
       "50%      0.000000    3.000000   28.000000    0.000000    0.000000   14.454200\n",
       "75%      1.000000    3.000000   38.000000    1.000000    0.000000   31.000000\n",
       "max      1.000000    3.000000   80.000000    8.000000    6.000000  512.329200"
      ]
     },
     "execution_count": 66,
     "metadata": {},
     "output_type": "execute_result"
    }
   ],
   "source": [
    "#Getting a description of the DataFrame\n",
    "df.describe()"
   ]
  },
  {
   "cell_type": "code",
   "execution_count": 67,
   "id": "6d503d19",
   "metadata": {},
   "outputs": [
    {
     "data": {
      "text/plain": [
       "<AxesSubplot:ylabel='PassengerId'>"
      ]
     },
     "execution_count": 67,
     "metadata": {},
     "output_type": "execute_result"
    },
    {
     "data": {
      "image/png": "[encoded data removed]",
      "text/plain": [
       "<Figure size 432x288 with 1 Axes>"
      ]
     },
     "metadata": {
      "needs_background": "light"
     },
     "output_type": "display_data"
    }
   ],
   "source": [
    "#Getting a heatmap of the missing values in each variables(columns)\n",
    "sns.heatmap(df.isnull(), yticklabels=False, cbar=False,cmap='Blues')"
   ]
  },
  {
   "cell_type": "markdown",
   "id": "b4e6aa28",
   "metadata": {},
   "source": [
    "As the heatmap indicates, there are values missing in the variables Age(~20-30%), Cabin(>90%) and a very small percentage in Embarked"
   ]
  },
  {
   "cell_type": "code",
   "execution_count": 10,
   "id": "6f71ec18",
   "metadata": {},
   "outputs": [
    {
     "data": {
      "text/plain": [
       "<seaborn.axisgrid.FacetGrid at 0x1ede7fb60d0>"
      ]
     },
     "execution_count": 10,
     "metadata": {},
     "output_type": "execute_result"
    },
    {
     "data": {
      "text/plain": [
       "<Figure size 720x432 with 0 Axes>"
      ]
     },
     "metadata": {},
     "output_type": "display_data"
    },
    {
     "data": {
      "image/png": "[encoded data removed]",
      "text/plain": [
       "<Figure size 511.25x360 with 1 Axes>"
      ]
     },
     "metadata": {
      "needs_background": "light"
     },
     "output_type": "display_data"
    }
   ],
   "source": [
    "#Computing the proportion of the missing data as a stacked bar plot\n",
    "plt.figure(figsize=(10,6))\n",
    "sns.displot(data=df.isna().melt(value_name='missing'),y='variable',hue='missing', multiple='fill', aspect=1.25)\n"
   ]
  },
  {
   "cell_type": "code",
   "execution_count": 11,
   "id": "d65ae0e2",
   "metadata": {},
   "outputs": [
    {
     "data": {
      "text/html": [
       "<div>\n",
       "<style scoped>\n",
       "    .dataframe tbody tr th:only-of-type {\n",
       "        vertical-align: middle;\n",
       "    }\n",
       "\n",
       "    .dataframe tbody tr th {\n",
       "        vertical-align: top;\n",
       "    }\n",
       "\n",
       "    .dataframe thead th {\n",
       "        text-align: right;\n",
       "    }\n",
       "</style>\n",
       "<table border=\"1\" class=\"dataframe\">\n",
       "  <thead>\n",
       "    <tr style=\"text-align: right;\">\n",
       "      <th></th>\n",
       "      <th>0</th>\n",
       "    </tr>\n",
       "  </thead>\n",
       "  <tbody>\n",
       "    <tr>\n",
       "      <th>Survived</th>\n",
       "      <td>int64</td>\n",
       "    </tr>\n",
       "    <tr>\n",
       "      <th>Pclass</th>\n",
       "      <td>int64</td>\n",
       "    </tr>\n",
       "    <tr>\n",
       "      <th>Name</th>\n",
       "      <td>object</td>\n",
       "    </tr>\n",
       "    <tr>\n",
       "      <th>Sex</th>\n",
       "      <td>object</td>\n",
       "    </tr>\n",
       "    <tr>\n",
       "      <th>Age</th>\n",
       "      <td>float64</td>\n",
       "    </tr>\n",
       "    <tr>\n",
       "      <th>SibSp</th>\n",
       "      <td>int64</td>\n",
       "    </tr>\n",
       "    <tr>\n",
       "      <th>Parch</th>\n",
       "      <td>int64</td>\n",
       "    </tr>\n",
       "    <tr>\n",
       "      <th>Ticket</th>\n",
       "      <td>object</td>\n",
       "    </tr>\n",
       "    <tr>\n",
       "      <th>Fare</th>\n",
       "      <td>float64</td>\n",
       "    </tr>\n",
       "    <tr>\n",
       "      <th>Cabin</th>\n",
       "      <td>object</td>\n",
       "    </tr>\n",
       "    <tr>\n",
       "      <th>Embarked</th>\n",
       "      <td>object</td>\n",
       "    </tr>\n",
       "  </tbody>\n",
       "</table>\n",
       "</div>"
      ],
      "text/plain": [
       "                0\n",
       "Survived    int64\n",
       "Pclass      int64\n",
       "Name       object\n",
       "Sex        object\n",
       "Age       float64\n",
       "SibSp       int64\n",
       "Parch       int64\n",
       "Ticket     object\n",
       "Fare      float64\n",
       "Cabin      object\n",
       "Embarked   object"
      ]
     },
     "execution_count": 11,
     "metadata": {},
     "output_type": "execute_result"
    }
   ],
   "source": [
    "#Creating a comprehensive list to get better insights of the DataFrame. Identifying the datatypes of the variables\n",
    "\n",
    "comprehensive=pd.DataFrame(df.dtypes)\n",
    "comprehensive"
   ]
  },
  {
   "cell_type": "code",
   "execution_count": 12,
   "id": "f2834404",
   "metadata": {},
   "outputs": [
    {
     "data": {
      "text/html": [
       "<div>\n",
       "<style scoped>\n",
       "    .dataframe tbody tr th:only-of-type {\n",
       "        vertical-align: middle;\n",
       "    }\n",
       "\n",
       "    .dataframe tbody tr th {\n",
       "        vertical-align: top;\n",
       "    }\n",
       "\n",
       "    .dataframe thead th {\n",
       "        text-align: right;\n",
       "    }\n",
       "</style>\n",
       "<table border=\"1\" class=\"dataframe\">\n",
       "  <thead>\n",
       "    <tr style=\"text-align: right;\">\n",
       "      <th></th>\n",
       "      <th>0</th>\n",
       "      <th>MissingValues</th>\n",
       "    </tr>\n",
       "  </thead>\n",
       "  <tbody>\n",
       "    <tr>\n",
       "      <th>Survived</th>\n",
       "      <td>int64</td>\n",
       "      <td>0</td>\n",
       "    </tr>\n",
       "    <tr>\n",
       "      <th>Pclass</th>\n",
       "      <td>int64</td>\n",
       "      <td>0</td>\n",
       "    </tr>\n",
       "    <tr>\n",
       "      <th>Name</th>\n",
       "      <td>object</td>\n",
       "      <td>0</td>\n",
       "    </tr>\n",
       "    <tr>\n",
       "      <th>Sex</th>\n",
       "      <td>object</td>\n",
       "      <td>0</td>\n",
       "    </tr>\n",
       "    <tr>\n",
       "      <th>Age</th>\n",
       "      <td>float64</td>\n",
       "      <td>177</td>\n",
       "    </tr>\n",
       "    <tr>\n",
       "      <th>SibSp</th>\n",
       "      <td>int64</td>\n",
       "      <td>0</td>\n",
       "    </tr>\n",
       "    <tr>\n",
       "      <th>Parch</th>\n",
       "      <td>int64</td>\n",
       "      <td>0</td>\n",
       "    </tr>\n",
       "    <tr>\n",
       "      <th>Ticket</th>\n",
       "      <td>object</td>\n",
       "      <td>0</td>\n",
       "    </tr>\n",
       "    <tr>\n",
       "      <th>Fare</th>\n",
       "      <td>float64</td>\n",
       "      <td>0</td>\n",
       "    </tr>\n",
       "    <tr>\n",
       "      <th>Cabin</th>\n",
       "      <td>object</td>\n",
       "      <td>687</td>\n",
       "    </tr>\n",
       "    <tr>\n",
       "      <th>Embarked</th>\n",
       "      <td>object</td>\n",
       "      <td>2</td>\n",
       "    </tr>\n",
       "  </tbody>\n",
       "</table>\n",
       "</div>"
      ],
      "text/plain": [
       "                0  MissingValues\n",
       "Survived    int64              0\n",
       "Pclass      int64              0\n",
       "Name       object              0\n",
       "Sex        object              0\n",
       "Age       float64            177\n",
       "SibSp       int64              0\n",
       "Parch       int64              0\n",
       "Ticket     object              0\n",
       "Fare      float64              0\n",
       "Cabin      object            687\n",
       "Embarked   object              2"
      ]
     },
     "execution_count": 12,
     "metadata": {},
     "output_type": "execute_result"
    }
   ],
   "source": [
    "#Identifying missing values and adding to the list\n",
    "comprehensive['MissingValues']= df.isnull().sum()\n",
    "comprehensive"
   ]
  },
  {
   "cell_type": "code",
   "execution_count": 13,
   "id": "46201af5",
   "metadata": {},
   "outputs": [
    {
     "data": {
      "text/html": [
       "<div>\n",
       "<style scoped>\n",
       "    .dataframe tbody tr th:only-of-type {\n",
       "        vertical-align: middle;\n",
       "    }\n",
       "\n",
       "    .dataframe tbody tr th {\n",
       "        vertical-align: top;\n",
       "    }\n",
       "\n",
       "    .dataframe thead th {\n",
       "        text-align: right;\n",
       "    }\n",
       "</style>\n",
       "<table border=\"1\" class=\"dataframe\">\n",
       "  <thead>\n",
       "    <tr style=\"text-align: right;\">\n",
       "      <th></th>\n",
       "      <th>0</th>\n",
       "      <th>MissingValues</th>\n",
       "      <th>UniqueValues</th>\n",
       "    </tr>\n",
       "  </thead>\n",
       "  <tbody>\n",
       "    <tr>\n",
       "      <th>Survived</th>\n",
       "      <td>int64</td>\n",
       "      <td>0</td>\n",
       "      <td>2</td>\n",
       "    </tr>\n",
       "    <tr>\n",
       "      <th>Pclass</th>\n",
       "      <td>int64</td>\n",
       "      <td>0</td>\n",
       "      <td>3</td>\n",
       "    </tr>\n",
       "    <tr>\n",
       "      <th>Name</th>\n",
       "      <td>object</td>\n",
       "      <td>0</td>\n",
       "      <td>891</td>\n",
       "    </tr>\n",
       "    <tr>\n",
       "      <th>Sex</th>\n",
       "      <td>object</td>\n",
       "      <td>0</td>\n",
       "      <td>2</td>\n",
       "    </tr>\n",
       "    <tr>\n",
       "      <th>Age</th>\n",
       "      <td>float64</td>\n",
       "      <td>177</td>\n",
       "      <td>88</td>\n",
       "    </tr>\n",
       "    <tr>\n",
       "      <th>SibSp</th>\n",
       "      <td>int64</td>\n",
       "      <td>0</td>\n",
       "      <td>7</td>\n",
       "    </tr>\n",
       "    <tr>\n",
       "      <th>Parch</th>\n",
       "      <td>int64</td>\n",
       "      <td>0</td>\n",
       "      <td>7</td>\n",
       "    </tr>\n",
       "    <tr>\n",
       "      <th>Ticket</th>\n",
       "      <td>object</td>\n",
       "      <td>0</td>\n",
       "      <td>681</td>\n",
       "    </tr>\n",
       "    <tr>\n",
       "      <th>Fare</th>\n",
       "      <td>float64</td>\n",
       "      <td>0</td>\n",
       "      <td>248</td>\n",
       "    </tr>\n",
       "    <tr>\n",
       "      <th>Cabin</th>\n",
       "      <td>object</td>\n",
       "      <td>687</td>\n",
       "      <td>147</td>\n",
       "    </tr>\n",
       "    <tr>\n",
       "      <th>Embarked</th>\n",
       "      <td>object</td>\n",
       "      <td>2</td>\n",
       "      <td>3</td>\n",
       "    </tr>\n",
       "  </tbody>\n",
       "</table>\n",
       "</div>"
      ],
      "text/plain": [
       "                0  MissingValues  UniqueValues\n",
       "Survived    int64              0             2\n",
       "Pclass      int64              0             3\n",
       "Name       object              0           891\n",
       "Sex        object              0             2\n",
       "Age       float64            177            88\n",
       "SibSp       int64              0             7\n",
       "Parch       int64              0             7\n",
       "Ticket     object              0           681\n",
       "Fare      float64              0           248\n",
       "Cabin      object            687           147\n",
       "Embarked   object              2             3"
      ]
     },
     "execution_count": 13,
     "metadata": {},
     "output_type": "execute_result"
    }
   ],
   "source": [
    "#Adding the number of unique values. \n",
    "\n",
    "comprehensive['UniqueValues']=df.nunique()\n",
    "comprehensive"
   ]
  },
  {
   "cell_type": "code",
   "execution_count": 14,
   "id": "6e98d0a5",
   "metadata": {},
   "outputs": [
    {
     "data": {
      "text/html": [
       "<div>\n",
       "<style scoped>\n",
       "    .dataframe tbody tr th:only-of-type {\n",
       "        vertical-align: middle;\n",
       "    }\n",
       "\n",
       "    .dataframe tbody tr th {\n",
       "        vertical-align: top;\n",
       "    }\n",
       "\n",
       "    .dataframe thead th {\n",
       "        text-align: right;\n",
       "    }\n",
       "</style>\n",
       "<table border=\"1\" class=\"dataframe\">\n",
       "  <thead>\n",
       "    <tr style=\"text-align: right;\">\n",
       "      <th></th>\n",
       "      <th>0</th>\n",
       "      <th>MissingValues</th>\n",
       "      <th>UniqueValues</th>\n",
       "      <th>Count</th>\n",
       "    </tr>\n",
       "  </thead>\n",
       "  <tbody>\n",
       "    <tr>\n",
       "      <th>Survived</th>\n",
       "      <td>int64</td>\n",
       "      <td>0</td>\n",
       "      <td>2</td>\n",
       "      <td>891</td>\n",
       "    </tr>\n",
       "    <tr>\n",
       "      <th>Pclass</th>\n",
       "      <td>int64</td>\n",
       "      <td>0</td>\n",
       "      <td>3</td>\n",
       "      <td>891</td>\n",
       "    </tr>\n",
       "    <tr>\n",
       "      <th>Name</th>\n",
       "      <td>object</td>\n",
       "      <td>0</td>\n",
       "      <td>891</td>\n",
       "      <td>891</td>\n",
       "    </tr>\n",
       "    <tr>\n",
       "      <th>Sex</th>\n",
       "      <td>object</td>\n",
       "      <td>0</td>\n",
       "      <td>2</td>\n",
       "      <td>891</td>\n",
       "    </tr>\n",
       "    <tr>\n",
       "      <th>Age</th>\n",
       "      <td>float64</td>\n",
       "      <td>177</td>\n",
       "      <td>88</td>\n",
       "      <td>714</td>\n",
       "    </tr>\n",
       "    <tr>\n",
       "      <th>SibSp</th>\n",
       "      <td>int64</td>\n",
       "      <td>0</td>\n",
       "      <td>7</td>\n",
       "      <td>891</td>\n",
       "    </tr>\n",
       "    <tr>\n",
       "      <th>Parch</th>\n",
       "      <td>int64</td>\n",
       "      <td>0</td>\n",
       "      <td>7</td>\n",
       "      <td>891</td>\n",
       "    </tr>\n",
       "    <tr>\n",
       "      <th>Ticket</th>\n",
       "      <td>object</td>\n",
       "      <td>0</td>\n",
       "      <td>681</td>\n",
       "      <td>891</td>\n",
       "    </tr>\n",
       "    <tr>\n",
       "      <th>Fare</th>\n",
       "      <td>float64</td>\n",
       "      <td>0</td>\n",
       "      <td>248</td>\n",
       "      <td>891</td>\n",
       "    </tr>\n",
       "    <tr>\n",
       "      <th>Cabin</th>\n",
       "      <td>object</td>\n",
       "      <td>687</td>\n",
       "      <td>147</td>\n",
       "      <td>204</td>\n",
       "    </tr>\n",
       "    <tr>\n",
       "      <th>Embarked</th>\n",
       "      <td>object</td>\n",
       "      <td>2</td>\n",
       "      <td>3</td>\n",
       "      <td>889</td>\n",
       "    </tr>\n",
       "  </tbody>\n",
       "</table>\n",
       "</div>"
      ],
      "text/plain": [
       "                0  MissingValues  UniqueValues  Count\n",
       "Survived    int64              0             2    891\n",
       "Pclass      int64              0             3    891\n",
       "Name       object              0           891    891\n",
       "Sex        object              0             2    891\n",
       "Age       float64            177            88    714\n",
       "SibSp       int64              0             7    891\n",
       "Parch       int64              0             7    891\n",
       "Ticket     object              0           681    891\n",
       "Fare      float64              0           248    891\n",
       "Cabin      object            687           147    204\n",
       "Embarked   object              2             3    889"
      ]
     },
     "execution_count": 14,
     "metadata": {},
     "output_type": "execute_result"
    }
   ],
   "source": [
    "#Adding the count for each variable\n",
    "\n",
    "comprehensive['Count']=df.count()\n",
    "comprehensive"
   ]
  },
  {
   "cell_type": "code",
   "execution_count": 15,
   "id": "21d0d67a",
   "metadata": {},
   "outputs": [
    {
     "data": {
      "text/html": [
       "<div>\n",
       "<style scoped>\n",
       "    .dataframe tbody tr th:only-of-type {\n",
       "        vertical-align: middle;\n",
       "    }\n",
       "\n",
       "    .dataframe tbody tr th {\n",
       "        vertical-align: top;\n",
       "    }\n",
       "\n",
       "    .dataframe thead th {\n",
       "        text-align: right;\n",
       "    }\n",
       "</style>\n",
       "<table border=\"1\" class=\"dataframe\">\n",
       "  <thead>\n",
       "    <tr style=\"text-align: right;\">\n",
       "      <th></th>\n",
       "      <th>DataType</th>\n",
       "      <th>MissingValues</th>\n",
       "      <th>UniqueValues</th>\n",
       "      <th>Count</th>\n",
       "    </tr>\n",
       "  </thead>\n",
       "  <tbody>\n",
       "    <tr>\n",
       "      <th>Survived</th>\n",
       "      <td>int64</td>\n",
       "      <td>0</td>\n",
       "      <td>2</td>\n",
       "      <td>891</td>\n",
       "    </tr>\n",
       "    <tr>\n",
       "      <th>Pclass</th>\n",
       "      <td>int64</td>\n",
       "      <td>0</td>\n",
       "      <td>3</td>\n",
       "      <td>891</td>\n",
       "    </tr>\n",
       "    <tr>\n",
       "      <th>Name</th>\n",
       "      <td>object</td>\n",
       "      <td>0</td>\n",
       "      <td>891</td>\n",
       "      <td>891</td>\n",
       "    </tr>\n",
       "    <tr>\n",
       "      <th>Sex</th>\n",
       "      <td>object</td>\n",
       "      <td>0</td>\n",
       "      <td>2</td>\n",
       "      <td>891</td>\n",
       "    </tr>\n",
       "    <tr>\n",
       "      <th>Age</th>\n",
       "      <td>float64</td>\n",
       "      <td>177</td>\n",
       "      <td>88</td>\n",
       "      <td>714</td>\n",
       "    </tr>\n",
       "    <tr>\n",
       "      <th>SibSp</th>\n",
       "      <td>int64</td>\n",
       "      <td>0</td>\n",
       "      <td>7</td>\n",
       "      <td>891</td>\n",
       "    </tr>\n",
       "    <tr>\n",
       "      <th>Parch</th>\n",
       "      <td>int64</td>\n",
       "      <td>0</td>\n",
       "      <td>7</td>\n",
       "      <td>891</td>\n",
       "    </tr>\n",
       "    <tr>\n",
       "      <th>Ticket</th>\n",
       "      <td>object</td>\n",
       "      <td>0</td>\n",
       "      <td>681</td>\n",
       "      <td>891</td>\n",
       "    </tr>\n",
       "    <tr>\n",
       "      <th>Fare</th>\n",
       "      <td>float64</td>\n",
       "      <td>0</td>\n",
       "      <td>248</td>\n",
       "      <td>891</td>\n",
       "    </tr>\n",
       "    <tr>\n",
       "      <th>Cabin</th>\n",
       "      <td>object</td>\n",
       "      <td>687</td>\n",
       "      <td>147</td>\n",
       "      <td>204</td>\n",
       "    </tr>\n",
       "    <tr>\n",
       "      <th>Embarked</th>\n",
       "      <td>object</td>\n",
       "      <td>2</td>\n",
       "      <td>3</td>\n",
       "      <td>889</td>\n",
       "    </tr>\n",
       "  </tbody>\n",
       "</table>\n",
       "</div>"
      ],
      "text/plain": [
       "         DataType  MissingValues  UniqueValues  Count\n",
       "Survived    int64              0             2    891\n",
       "Pclass      int64              0             3    891\n",
       "Name       object              0           891    891\n",
       "Sex        object              0             2    891\n",
       "Age       float64            177            88    714\n",
       "SibSp       int64              0             7    891\n",
       "Parch       int64              0             7    891\n",
       "Ticket     object              0           681    891\n",
       "Fare      float64              0           248    891\n",
       "Cabin      object            687           147    204\n",
       "Embarked   object              2             3    889"
      ]
     },
     "execution_count": 15,
     "metadata": {},
     "output_type": "execute_result"
    }
   ],
   "source": [
    "#Renaming the column\n",
    "comprehensive=comprehensive.rename(columns={0:'DataType'})\n",
    "comprehensive"
   ]
  },
  {
   "cell_type": "markdown",
   "id": "1e80fd3a",
   "metadata": {},
   "source": [
    "# Univariate and Bivariate Analysis"
   ]
  },
  {
   "cell_type": "code",
   "execution_count": 16,
   "id": "43314a86",
   "metadata": {},
   "outputs": [
    {
     "data": {
      "text/plain": [
       "Index(['Survived', 'Pclass', 'Age', 'SibSp', 'Parch', 'Fare'], dtype='object')"
      ]
     },
     "execution_count": 16,
     "metadata": {},
     "output_type": "execute_result"
    }
   ],
   "source": [
    "#List all columns\n",
    "df.describe().columns"
   ]
  },
  {
   "cell_type": "code",
   "execution_count": 17,
   "id": "1a35f011",
   "metadata": {},
   "outputs": [],
   "source": [
    "#Separting the numerical and categorical variables\n",
    "df_num=df[['Age','SibSp','Parch','Fare']]\n",
    "df_category=df[['Survived','Pclass','Sex','Ticket','Cabin','Embarked']] "
   ]
  },
  {
   "cell_type": "markdown",
   "id": "5c2a55c2",
   "metadata": {},
   "source": [
    "### Univariate Analysis"
   ]
  },
  {
   "cell_type": "code",
   "execution_count": 18,
   "id": "c48f3792",
   "metadata": {},
   "outputs": [
    {
     "data": {
      "text/plain": [
       "0    0.616162\n",
       "1    0.383838\n",
       "Name: Survived, dtype: float64"
      ]
     },
     "execution_count": 18,
     "metadata": {},
     "output_type": "execute_result"
    }
   ],
   "source": [
    "#Normalizing the dataset to get the relative frequency for 'Survived' variable\n",
    "df.Survived.value_counts(normalize=True)"
   ]
  },
  {
   "cell_type": "markdown",
   "id": "d577585a",
   "metadata": {},
   "source": [
    "As analysed above, 61% didn't survive while 38% survived."
   ]
  },
  {
   "cell_type": "code",
   "execution_count": 19,
   "id": "d43565ce",
   "metadata": {},
   "outputs": [
    {
     "name": "stderr",
     "output_type": "stream",
     "text": [
      "C:\\Users\\allen\\anaconda3\\lib\\site-packages\\seaborn\\_decorators.py:36: FutureWarning: Pass the following variable as a keyword arg: x. From version 0.12, the only valid positional argument will be `data`, and passing other arguments without an explicit keyword will result in an error or misinterpretation.\n",
      "  warnings.warn(\n"
     ]
    },
    {
     "data": {
      "text/plain": [
       "<AxesSubplot:xlabel='Survived', ylabel='count'>"
      ]
     },
     "execution_count": 19,
     "metadata": {},
     "output_type": "execute_result"
    },
    {
     "data": {
      "image/png": "[encoded data removed]",
      "text/plain": [
       "<Figure size 432x288 with 1 Axes>"
      ]
     },
     "metadata": {
      "needs_background": "light"
     },
     "output_type": "display_data"
    }
   ],
   "source": [
    "sns.countplot('Survived',data=df)"
   ]
  },
  {
   "cell_type": "code",
   "execution_count": 24,
   "id": "b6581aa7",
   "metadata": {},
   "outputs": [
    {
     "data": {
      "text/plain": [
       "<AxesSubplot:ylabel='Survived'>"
      ]
     },
     "execution_count": 24,
     "metadata": {},
     "output_type": "execute_result"
    },
    {
     "data": {
      "image/png": "[encoded data removed]",
      "text/plain": [
       "<Figure size 432x288 with 1 Axes>"
      ]
     },
     "metadata": {},
     "output_type": "display_data"
    }
   ],
   "source": [
    "#Stacking the data in a pie chart to decipher the relative percentage\n",
    "df['Survived'].value_counts().plot(kind='pie', autopct=\"%.2f\")"
   ]
  },
  {
   "cell_type": "markdown",
   "id": "a1d48ec2",
   "metadata": {},
   "source": [
    "More passengers died than the ones who survived, furthering our analysis through the graph. "
   ]
  },
  {
   "cell_type": "code",
   "execution_count": 20,
   "id": "c4f1d157",
   "metadata": {},
   "outputs": [
    {
     "name": "stderr",
     "output_type": "stream",
     "text": [
      "C:\\Users\\allen\\anaconda3\\lib\\site-packages\\seaborn\\_decorators.py:36: FutureWarning: Pass the following variable as a keyword arg: x. From version 0.12, the only valid positional argument will be `data`, and passing other arguments without an explicit keyword will result in an error or misinterpretation.\n",
      "  warnings.warn(\n"
     ]
    },
    {
     "data": {
      "text/plain": [
       "<AxesSubplot:xlabel='Pclass', ylabel='count'>"
      ]
     },
     "execution_count": 20,
     "metadata": {},
     "output_type": "execute_result"
    },
    {
     "data": {
      "image/png": "[encoded data removed]",
      "text/plain": [
       "<Figure size 432x288 with 1 Axes>"
      ]
     },
     "metadata": {
      "needs_background": "light"
     },
     "output_type": "display_data"
    }
   ],
   "source": [
    "#Getting the compostition of the Pclass variable \n",
    "sns.countplot('Pclass',data=df)"
   ]
  },
  {
   "cell_type": "code",
   "execution_count": 26,
   "id": "5a2e564b",
   "metadata": {},
   "outputs": [
    {
     "data": {
      "text/plain": [
       "<AxesSubplot:ylabel='Pclass'>"
      ]
     },
     "execution_count": 26,
     "metadata": {},
     "output_type": "execute_result"
    },
    {
     "data": {
      "image/png": "[encoded data removed]",
      "text/plain": [
       "<Figure size 432x288 with 1 Axes>"
      ]
     },
     "metadata": {},
     "output_type": "display_data"
    }
   ],
   "source": [
    "#Getting the percentage composition in a pie chart\n",
    "df['Pclass'].value_counts().plot(kind='pie', autopct=\"%.2f\")"
   ]
  },
  {
   "cell_type": "markdown",
   "id": "53d1b64c",
   "metadata": {},
   "source": [
    "There are more people with tickets in the lower class category. With the middle class tickets being the 2nd highest and the upper class passengers constituting the lowest percentage. This indicates that passengers with a lower socio-economic status (with a lower ticket bracket) were higher than the other passengers in the ship. "
   ]
  },
  {
   "cell_type": "code",
   "execution_count": 21,
   "id": "565713bb",
   "metadata": {},
   "outputs": [
    {
     "name": "stderr",
     "output_type": "stream",
     "text": [
      "C:\\Users\\allen\\anaconda3\\lib\\site-packages\\seaborn\\_decorators.py:36: FutureWarning: Pass the following variable as a keyword arg: x. From version 0.12, the only valid positional argument will be `data`, and passing other arguments without an explicit keyword will result in an error or misinterpretation.\n",
      "  warnings.warn(\n"
     ]
    },
    {
     "data": {
      "text/plain": [
       "<AxesSubplot:xlabel='Sex', ylabel='count'>"
      ]
     },
     "execution_count": 21,
     "metadata": {},
     "output_type": "execute_result"
    },
    {
     "data": {
      "image/png": "[encoded data removed]",
      "text/plain": [
       "<Figure size 432x288 with 1 Axes>"
      ]
     },
     "metadata": {
      "needs_background": "light"
     },
     "output_type": "display_data"
    }
   ],
   "source": [
    "#Getting the compostition of the Sex variable\n",
    "sns.countplot('Sex',data=df)"
   ]
  },
  {
   "cell_type": "code",
   "execution_count": 23,
   "id": "d725f5d6",
   "metadata": {},
   "outputs": [
    {
     "data": {
      "text/plain": [
       "<AxesSubplot:ylabel='Sex'>"
      ]
     },
     "execution_count": 23,
     "metadata": {},
     "output_type": "execute_result"
    },
    {
     "data": {
      "image/png": "[encoded data removed]",
      "text/plain": [
       "<Figure size 432x288 with 1 Axes>"
      ]
     },
     "metadata": {},
     "output_type": "display_data"
    }
   ],
   "source": [
    "#Getting the percentage composition in a pie chart\n",
    "df['Sex'].value_counts().plot(kind='pie', autopct=\"%.2f\")"
   ]
  },
  {
   "cell_type": "markdown",
   "id": "42463f76",
   "metadata": {},
   "source": [
    "There were a greater percentage of men than women in the ship"
   ]
  },
  {
   "cell_type": "code",
   "execution_count": 50,
   "id": "e45bede0",
   "metadata": {},
   "outputs": [
    {
     "name": "stderr",
     "output_type": "stream",
     "text": [
      "C:\\Users\\allen\\anaconda3\\lib\\site-packages\\seaborn\\_decorators.py:36: FutureWarning: Pass the following variable as a keyword arg: x. From version 0.12, the only valid positional argument will be `data`, and passing other arguments without an explicit keyword will result in an error or misinterpretation.\n",
      "  warnings.warn(\n"
     ]
    },
    {
     "data": {
      "text/plain": [
       "<AxesSubplot:xlabel='SibSp', ylabel='count'>"
      ]
     },
     "execution_count": 50,
     "metadata": {},
     "output_type": "execute_result"
    },
    {
     "data": {
      "image/png": "[encoded data removed]",
      "text/plain": [
       "<Figure size 432x288 with 1 Axes>"
      ]
     },
     "metadata": {
      "needs_background": "light"
     },
     "output_type": "display_data"
    }
   ],
   "source": [
    "#Getting the compostition of the SibSp variable to get the number of siblings/spouses\n",
    "sns.countplot('SibSp',data=df)"
   ]
  },
  {
   "cell_type": "code",
   "execution_count": 30,
   "id": "d339d454",
   "metadata": {},
   "outputs": [
    {
     "data": {
      "text/plain": [
       "<AxesSubplot:ylabel='SibSp'>"
      ]
     },
     "execution_count": 30,
     "metadata": {},
     "output_type": "execute_result"
    },
    {
     "data": {
      "image/png": "[encoded data removed]",
      "text/plain": [
       "<Figure size 432x288 with 1 Axes>"
      ]
     },
     "metadata": {},
     "output_type": "display_data"
    }
   ],
   "source": [
    "#Getting the percentage composition in a pie chart\n",
    "df['SibSp'].value_counts().plot(kind='pie', autopct=\"%.1f\")"
   ]
  },
  {
   "cell_type": "markdown",
   "id": "696303f7",
   "metadata": {},
   "source": [
    "A greater percentage of passengers in the ship were with no siblings/spouses. While, the rest of the mixture is constituted in the bar graph and pie chart. "
   ]
  },
  {
   "cell_type": "code",
   "execution_count": 51,
   "id": "fe0b8c4f",
   "metadata": {},
   "outputs": [
    {
     "name": "stderr",
     "output_type": "stream",
     "text": [
      "C:\\Users\\allen\\anaconda3\\lib\\site-packages\\seaborn\\_decorators.py:36: FutureWarning: Pass the following variable as a keyword arg: x. From version 0.12, the only valid positional argument will be `data`, and passing other arguments without an explicit keyword will result in an error or misinterpretation.\n",
      "  warnings.warn(\n"
     ]
    },
    {
     "data": {
      "text/plain": [
       "<AxesSubplot:xlabel='Parch', ylabel='count'>"
      ]
     },
     "execution_count": 51,
     "metadata": {},
     "output_type": "execute_result"
    },
    {
     "data": {
      "image/png": "[encoded data removed]",
      "text/plain": [
       "<Figure size 432x288 with 1 Axes>"
      ]
     },
     "metadata": {
      "needs_background": "light"
     },
     "output_type": "display_data"
    }
   ],
   "source": [
    "#Getting the compostition of the Parch variable to find the number of parents/chilren aboard\n",
    "sns.countplot('Parch',data=df)"
   ]
  },
  {
   "cell_type": "code",
   "execution_count": 31,
   "id": "09a81519",
   "metadata": {},
   "outputs": [
    {
     "data": {
      "text/plain": [
       "<AxesSubplot:ylabel='Parch'>"
      ]
     },
     "execution_count": 31,
     "metadata": {},
     "output_type": "execute_result"
    },
    {
     "data": {
      "image/png": "[encoded data removed]",
      "text/plain": [
       "<Figure size 432x288 with 1 Axes>"
      ]
     },
     "metadata": {},
     "output_type": "display_data"
    }
   ],
   "source": [
    "#Getting the percentage composition in a pie chart\n",
    "df['Parch'].value_counts().plot(kind='pie', autopct=\"%.1f\")"
   ]
  },
  {
   "cell_type": "markdown",
   "id": "ada11c5c",
   "metadata": {},
   "source": [
    "The percentage of passengers with no parents/children is the highest. "
   ]
  },
  {
   "cell_type": "code",
   "execution_count": 52,
   "id": "706eb896",
   "metadata": {},
   "outputs": [
    {
     "name": "stderr",
     "output_type": "stream",
     "text": [
      "C:\\Users\\allen\\anaconda3\\lib\\site-packages\\seaborn\\_decorators.py:36: FutureWarning: Pass the following variable as a keyword arg: x. From version 0.12, the only valid positional argument will be `data`, and passing other arguments without an explicit keyword will result in an error or misinterpretation.\n",
      "  warnings.warn(\n"
     ]
    },
    {
     "data": {
      "text/plain": [
       "<AxesSubplot:xlabel='Embarked', ylabel='count'>"
      ]
     },
     "execution_count": 52,
     "metadata": {},
     "output_type": "execute_result"
    },
    {
     "data": {
      "image/png": "[encoded data removed]",
      "text/plain": [
       "<Figure size 432x288 with 1 Axes>"
      ]
     },
     "metadata": {
      "needs_background": "light"
     },
     "output_type": "display_data"
    }
   ],
   "source": [
    "#Getting the details of the composition for the port of the embarkation\n",
    "sns.countplot('Embarked',data=df)"
   ]
  },
  {
   "cell_type": "code",
   "execution_count": 32,
   "id": "b689d2e6",
   "metadata": {},
   "outputs": [
    {
     "data": {
      "text/plain": [
       "<AxesSubplot:ylabel='Embarked'>"
      ]
     },
     "execution_count": 32,
     "metadata": {},
     "output_type": "execute_result"
    },
    {
     "data": {
      "image/png": "[encoded data removed]",
      "text/plain": [
       "<Figure size 432x288 with 1 Axes>"
      ]
     },
     "metadata": {},
     "output_type": "display_data"
    }
   ],
   "source": [
    "#Getting the percentage of the composition mixture\n",
    "df['Embarked'].value_counts().plot(kind='pie', autopct=\"%.1f\")"
   ]
  },
  {
   "cell_type": "markdown",
   "id": "ac0bf088",
   "metadata": {},
   "source": [
    "The highest number of embarkations is at Southampton, followed by Cherbourg and Queenstown having the lowest number of embarkations. "
   ]
  },
  {
   "cell_type": "code",
   "execution_count": 33,
   "id": "07b09032",
   "metadata": {},
   "outputs": [
    {
     "name": "stderr",
     "output_type": "stream",
     "text": [
      "C:\\Users\\allen\\anaconda3\\lib\\site-packages\\seaborn\\_decorators.py:36: FutureWarning: Pass the following variable as a keyword arg: x. From version 0.12, the only valid positional argument will be `data`, and passing other arguments without an explicit keyword will result in an error or misinterpretation.\n",
      "  warnings.warn(\n"
     ]
    },
    {
     "data": {
      "text/plain": [
       "<AxesSubplot:xlabel='Ticket', ylabel='count'>"
      ]
     },
     "execution_count": 33,
     "metadata": {},
     "output_type": "execute_result"
    },
    {
     "data": {
      "image/png": "[encoded data removed]",
      "text/plain": [
       "<Figure size 432x288 with 1 Axes>"
      ]
     },
     "metadata": {
      "needs_background": "light"
     },
     "output_type": "display_data"
    }
   ],
   "source": [
    "#Getting the details of the composition for tickets\n",
    "sns.countplot('Ticket',data=df)"
   ]
  },
  {
   "cell_type": "code",
   "execution_count": 35,
   "id": "80da2a6d",
   "metadata": {},
   "outputs": [
    {
     "data": {
      "text/plain": [
       "<AxesSubplot:xlabel='Cabin', ylabel='count'>"
      ]
     },
     "execution_count": 35,
     "metadata": {},
     "output_type": "execute_result"
    },
    {
     "data": {
      "image/png": "[encoded data removed]",
      "text/plain": [
       "<Figure size 432x288 with 1 Axes>"
      ]
     },
     "metadata": {
      "needs_background": "light"
     },
     "output_type": "display_data"
    }
   ],
   "source": [
    "#Getting the details of the composition for cabin details\n",
    "sns.countplot('Cabin',data=df)"
   ]
  },
  {
   "cell_type": "markdown",
   "id": "d690b2bc",
   "metadata": {},
   "source": [
    "Cabin and Ticket graphs are unintelligible, therefore would require feature engineering"
   ]
  },
  {
   "cell_type": "code",
   "execution_count": 53,
   "id": "524d0aba",
   "metadata": {},
   "outputs": [
    {
     "name": "stderr",
     "output_type": "stream",
     "text": [
      "C:\\Users\\allen\\anaconda3\\lib\\site-packages\\seaborn\\distributions.py:2619: FutureWarning: `distplot` is a deprecated function and will be removed in a future version. Please adapt your code to use either `displot` (a figure-level function with similar flexibility) or `histplot` (an axes-level function for histograms).\n",
      "  warnings.warn(msg, FutureWarning)\n"
     ]
    },
    {
     "data": {
      "text/plain": [
       "<AxesSubplot:xlabel='Fare', ylabel='Density'>"
      ]
     },
     "execution_count": 53,
     "metadata": {},
     "output_type": "execute_result"
    },
    {
     "data": {
      "image/png": "[encoded data removed]",
      "text/plain": [
       "<Figure size 432x288 with 1 Axes>"
      ]
     },
     "metadata": {
      "needs_background": "light"
     },
     "output_type": "display_data"
    }
   ],
   "source": [
    "#Getting the distribution of the Fare\n",
    "sns.distplot(df['Fare'], kde=True)"
   ]
  },
  {
   "cell_type": "markdown",
   "id": "f6d89a67",
   "metadata": {},
   "source": [
    "From the graph it is evident that Fare doesn't follow a normal distribution and is skewed."
   ]
  },
  {
   "cell_type": "code",
   "execution_count": 54,
   "id": "e1a2dab1",
   "metadata": {},
   "outputs": [
    {
     "name": "stderr",
     "output_type": "stream",
     "text": [
      "C:\\Users\\allen\\anaconda3\\lib\\site-packages\\seaborn\\distributions.py:2619: FutureWarning: `distplot` is a deprecated function and will be removed in a future version. Please adapt your code to use either `displot` (a figure-level function with similar flexibility) or `histplot` (an axes-level function for histograms).\n",
      "  warnings.warn(msg, FutureWarning)\n"
     ]
    },
    {
     "data": {
      "text/plain": [
       "<AxesSubplot:xlabel='Age', ylabel='Density'>"
      ]
     },
     "execution_count": 54,
     "metadata": {},
     "output_type": "execute_result"
    },
    {
     "data": {
      "image/png": "[encoded data removed]",
      "text/plain": [
       "<Figure size 432x288 with 1 Axes>"
      ]
     },
     "metadata": {
      "needs_background": "light"
     },
     "output_type": "display_data"
    }
   ],
   "source": [
    "#Getting the distribution for Age\n",
    "sns.distplot(df['Age'], kde=True)"
   ]
  },
  {
   "cell_type": "markdown",
   "id": "f387b20a",
   "metadata": {},
   "source": [
    "Age follows a fair normal distribution"
   ]
  },
  {
   "cell_type": "markdown",
   "id": "16662fe9",
   "metadata": {},
   "source": [
    "### Bivariate Analysis "
   ]
  },
  {
   "cell_type": "code",
   "execution_count": 38,
   "id": "7abae9bc",
   "metadata": {},
   "outputs": [
    {
     "data": {
      "text/html": [
       "<div>\n",
       "<style scoped>\n",
       "    .dataframe tbody tr th:only-of-type {\n",
       "        vertical-align: middle;\n",
       "    }\n",
       "\n",
       "    .dataframe tbody tr th {\n",
       "        vertical-align: top;\n",
       "    }\n",
       "\n",
       "    .dataframe thead th {\n",
       "        text-align: right;\n",
       "    }\n",
       "</style>\n",
       "<table border=\"1\" class=\"dataframe\">\n",
       "  <thead>\n",
       "    <tr style=\"text-align: right;\">\n",
       "      <th></th>\n",
       "      <th>Age</th>\n",
       "      <th>Fare</th>\n",
       "      <th>Parch</th>\n",
       "      <th>SibSp</th>\n",
       "    </tr>\n",
       "    <tr>\n",
       "      <th>Survived</th>\n",
       "      <th></th>\n",
       "      <th></th>\n",
       "      <th></th>\n",
       "      <th></th>\n",
       "    </tr>\n",
       "  </thead>\n",
       "  <tbody>\n",
       "    <tr>\n",
       "      <th>0</th>\n",
       "      <td>30.626179</td>\n",
       "      <td>22.117887</td>\n",
       "      <td>0.329690</td>\n",
       "      <td>0.553734</td>\n",
       "    </tr>\n",
       "    <tr>\n",
       "      <th>1</th>\n",
       "      <td>28.343690</td>\n",
       "      <td>48.395408</td>\n",
       "      <td>0.464912</td>\n",
       "      <td>0.473684</td>\n",
       "    </tr>\n",
       "  </tbody>\n",
       "</table>\n",
       "</div>"
      ],
      "text/plain": [
       "                Age       Fare     Parch     SibSp\n",
       "Survived                                          \n",
       "0         30.626179  22.117887  0.329690  0.553734\n",
       "1         28.343690  48.395408  0.464912  0.473684"
      ]
     },
     "execution_count": 38,
     "metadata": {},
     "output_type": "execute_result"
    }
   ],
   "source": [
    "#using a pivot table to compare survival across different variables\n",
    "\n",
    "pd.pivot_table(df, index= 'Survived', values =['Age','SibSp','Parch','Fare'])"
   ]
  },
  {
   "cell_type": "markdown",
   "id": "089889fd",
   "metadata": {},
   "source": [
    "This shows that \n",
    "- People with a younger age have a greater chance of survival\n",
    "- People who paid more for the tickets have a greater chance of survival\n",
    "- People with Parents/children have a greater chance of survival\n",
    "- People with a sibling/partner have a lesser chance of survival"
   ]
  },
  {
   "cell_type": "code",
   "execution_count": null,
   "id": "23100b61",
   "metadata": {},
   "outputs": [],
   "source": [
    "\n",
    "\n"
   ]
  },
  {
   "cell_type": "code",
   "execution_count": 40,
   "id": "8d2dd478",
   "metadata": {},
   "outputs": [
    {
     "data": {
      "text/plain": [
       "<AxesSubplot:xlabel='Pclass'>"
      ]
     },
     "execution_count": 40,
     "metadata": {},
     "output_type": "execute_result"
    },
    {
     "data": {
      "image/png": "[encoded data removed]",
      "text/plain": [
       "<Figure size 432x288 with 1 Axes>"
      ]
     },
     "metadata": {
      "needs_background": "light"
     },
     "output_type": "display_data"
    }
   ],
   "source": [
    "df.groupby('Pclass')['Survived'].mean().plot(kind='bar')"
   ]
  },
  {
   "cell_type": "markdown",
   "id": "a4598123",
   "metadata": {},
   "source": [
    "This indicates that Pclass has a strong correlation with survival. Upper class passengers had a greater chance of survival with a 60% survival percentage, the middle class having a 45% survival percentage, while the lower class having the least percentage of survival with a meagre ~23-24%. This indicates that the chance of survival is skewed towards passengers with a greater socio-economic status.  "
   ]
  },
  {
   "cell_type": "code",
   "execution_count": 56,
   "id": "87bf7a7f",
   "metadata": {},
   "outputs": [
    {
     "data": {
      "text/plain": [
       "<AxesSubplot:xlabel='SibSp'>"
      ]
     },
     "execution_count": 56,
     "metadata": {},
     "output_type": "execute_result"
    },
    {
     "data": {
      "image/png": "[encoded data removed]",
      "text/plain": [
       "<Figure size 432x288 with 1 Axes>"
      ]
     },
     "metadata": {
      "needs_background": "light"
     },
     "output_type": "display_data"
    }
   ],
   "source": [
    "df.groupby('SibSp')['Survived'].mean().plot(kind='bar')"
   ]
  },
  {
   "cell_type": "code",
   "execution_count": 57,
   "id": "b5af4108",
   "metadata": {},
   "outputs": [
    {
     "data": {
      "text/plain": [
       "<AxesSubplot:xlabel='Parch'>"
      ]
     },
     "execution_count": 57,
     "metadata": {},
     "output_type": "execute_result"
    },
    {
     "data": {
      "image/png": "[encoded data removed]",
      "text/plain": [
       "<Figure size 432x288 with 1 Axes>"
      ]
     },
     "metadata": {
      "needs_background": "light"
     },
     "output_type": "display_data"
    }
   ],
   "source": [
    "df.groupby('Parch')['Survived'].mean().plot(kind='bar')"
   ]
  },
  {
   "cell_type": "markdown",
   "id": "6c2355b3",
   "metadata": {},
   "source": [
    "This indicates that passengers on board with 3 parents/children had the greatest percentage of survival(~60%), followed closely by passengers with 2 and 1 parent(s)/child(ren). Passengers with 5 parents/children had the least percentage of survival while passengers with 0 children/parent(s) relatively low percentage of survival as well.  "
   ]
  },
  {
   "cell_type": "code",
   "execution_count": 58,
   "id": "8b3683df",
   "metadata": {},
   "outputs": [
    {
     "data": {
      "text/plain": [
       "<AxesSubplot:xlabel='Sex'>"
      ]
     },
     "execution_count": 58,
     "metadata": {},
     "output_type": "execute_result"
    },
    {
     "data": {
      "image/png": "[encoded data removed]",
      "text/plain": [
       "<Figure size 432x288 with 1 Axes>"
      ]
     },
     "metadata": {
      "needs_background": "light"
     },
     "output_type": "display_data"
    }
   ],
   "source": [
    "df.groupby('Sex')['Survived'].mean().plot(kind='bar')"
   ]
  },
  {
   "cell_type": "markdown",
   "id": "4554eded",
   "metadata": {},
   "source": [
    "This strongly indicates a strong correlation with the Sex and Survival percentage. The female sex had a greater percentage of survival(75%) compared to male(20%)"
   ]
  },
  {
   "cell_type": "code",
   "execution_count": 59,
   "id": "04fa0b61",
   "metadata": {},
   "outputs": [
    {
     "data": {
      "text/plain": [
       "<AxesSubplot:xlabel='Embarked'>"
      ]
     },
     "execution_count": 59,
     "metadata": {},
     "output_type": "execute_result"
    },
    {
     "data": {
      "image/png": "[encoded data removed]",
      "text/plain": [
       "<Figure size 432x288 with 1 Axes>"
      ]
     },
     "metadata": {
      "needs_background": "light"
     },
     "output_type": "display_data"
    }
   ],
   "source": [
    "df.groupby('Embarked')['Survived'].mean().plot(kind='bar')"
   ]
  },
  {
   "cell_type": "code",
   "execution_count": null,
   "id": "aacd66ac",
   "metadata": {},
   "outputs": [],
   "source": []
  },
  {
   "cell_type": "markdown",
   "id": "1a28657c",
   "metadata": {},
   "source": [
    "This indicates the port of embarkation at Cherbourg had the highest survival percentage. "
   ]
  },
  {
   "cell_type": "code",
   "execution_count": 47,
   "id": "603048c5",
   "metadata": {},
   "outputs": [
    {
     "data": {
      "text/plain": [
       "<AxesSubplot:xlabel='Sex', ylabel='Fare'>"
      ]
     },
     "execution_count": 47,
     "metadata": {},
     "output_type": "execute_result"
    },
    {
     "data": {
      "image/png": "[encoded data removed]",
      "text/plain": [
       "<Figure size 432x288 with 1 Axes>"
      ]
     },
     "metadata": {
      "needs_background": "light"
     },
     "output_type": "display_data"
    }
   ],
   "source": [
    "#Display the distribution of Sex wrt Fare\n",
    "sns.boxplot(x=\"Sex\", y=\"Fare\", data=df)"
   ]
  },
  {
   "cell_type": "markdown",
   "id": "f4079706",
   "metadata": {},
   "source": [
    "This indicates female passengers purchased tickets with a higher fare"
   ]
  },
  {
   "cell_type": "code",
   "execution_count": 60,
   "id": "ba753c40",
   "metadata": {},
   "outputs": [
    {
     "data": {
      "text/plain": [
       "<AxesSubplot:xlabel='Survived', ylabel='Age'>"
      ]
     },
     "execution_count": 60,
     "metadata": {},
     "output_type": "execute_result"
    },
    {
     "data": {
      "image/png": "[encoded data removed]",
      "text/plain": [
       "<Figure size 432x288 with 1 Axes>"
      ]
     },
     "metadata": {
      "needs_background": "light"
     },
     "output_type": "display_data"
    }
   ],
   "source": [
    "# Display the distribution of Survived wrt Age\n",
    "sns.boxplot(x=\"Survived\", y=\"Age\", data=df)"
   ]
  },
  {
   "cell_type": "markdown",
   "id": "1bf8db0f",
   "metadata": {},
   "source": [
    "The age of the people who didn't survive and the people who did is almost similiar, with the latter having a slighlty younger age"
   ]
  },
  {
   "cell_type": "code",
   "execution_count": 49,
   "id": "6b76511b",
   "metadata": {},
   "outputs": [
    {
     "data": {
      "text/plain": [
       "<AxesSubplot:xlabel='Pclass', ylabel='Age'>"
      ]
     },
     "execution_count": 49,
     "metadata": {},
     "output_type": "execute_result"
    },
    {
     "data": {
      "image/png": "[encoded data removed]",
      "text/plain": [
       "<Figure size 432x288 with 1 Axes>"
      ]
     },
     "metadata": {
      "needs_background": "light"
     },
     "output_type": "display_data"
    }
   ],
   "source": [
    "#Display the distribution of Pclass wrt Age\n",
    "sns.boxplot(x=\"Pclass\", y=\"Age\", data=df)"
   ]
  },
  {
   "cell_type": "markdown",
   "id": "6410952d",
   "metadata": {},
   "source": [
    "This indicates upper class passengers are of older age than the rest of the passengers with middle class and lower class socio economic brackets. The lower class passengers have the youngest age bracket. "
   ]
  },
  {
   "cell_type": "code",
   "execution_count": 61,
   "id": "2e8e0969",
   "metadata": {},
   "outputs": [
    {
     "data": {
      "text/plain": [
       "<AxesSubplot:xlabel='Survived', ylabel='Fare'>"
      ]
     },
     "execution_count": 61,
     "metadata": {},
     "output_type": "execute_result"
    },
    {
     "data": {
      "image/png": "[encoded data removed]",
      "text/plain": [
       "<Figure size 432x288 with 1 Axes>"
      ]
     },
     "metadata": {
      "needs_background": "light"
     },
     "output_type": "display_data"
    }
   ],
   "source": [
    "#Display the distribution of Survived wrt Fare\n",
    "sns.boxplot(x=\"Survived\", y=\"Fare\", data=df)"
   ]
  },
  {
   "cell_type": "markdown",
   "id": "c18f2a24",
   "metadata": {},
   "source": [
    "This indicates passengers who paid a higher fare have a greater chance at survival"
   ]
  },
  {
   "cell_type": "code",
   "execution_count": 41,
   "id": "3ce5d0c2",
   "metadata": {},
   "outputs": [
    {
     "name": "stdout",
     "output_type": "stream",
     "text": [
      "Pclass      1   2    3\n",
      "Survived              \n",
      "0          80  97  372\n",
      "1         136  87  119\n",
      "\n"
     ]
    }
   ],
   "source": [
    "#Using pivot table to make comparisons between pclass and survival, and getting the count\n",
    "\n",
    "print(pd.pivot_table(df, index='Survived', columns='Pclass', values='Ticket', aggfunc='count'))\n",
    "print()\n"
   ]
  },
  {
   "cell_type": "code",
   "execution_count": 43,
   "id": "c87b99d9",
   "metadata": {},
   "outputs": [
    {
     "name": "stdout",
     "output_type": "stream",
     "text": [
      "Sex       female  male\n",
      "Survived              \n",
      "0             81   468\n",
      "1            233   109\n",
      "\n"
     ]
    }
   ],
   "source": [
    "#Using pivot table to make comparisons between sex and survival, and getting the count\n",
    "print(pd.pivot_table(df, index='Survived', columns='Sex', values='Ticket', aggfunc='count'))\n",
    "print()\n"
   ]
  },
  {
   "cell_type": "code",
   "execution_count": 44,
   "id": "71cdcf2b",
   "metadata": {},
   "outputs": [
    {
     "name": "stdout",
     "output_type": "stream",
     "text": [
      "Embarked   C   Q    S\n",
      "Survived             \n",
      "0         75  47  427\n",
      "1         93  30  217\n",
      "\n"
     ]
    }
   ],
   "source": [
    "#Using pivot table to make comparisons between  and survival, and getting the count\n",
    "print(pd.pivot_table(df, index='Survived', columns='Embarked', values='Ticket', aggfunc='count'))\n",
    "print()"
   ]
  },
  {
   "cell_type": "markdown",
   "id": "008556cd",
   "metadata": {},
   "source": [
    "# Multivariate Analysis"
   ]
  },
  {
   "cell_type": "code",
   "execution_count": 45,
   "id": "e35c6494",
   "metadata": {},
   "outputs": [
    {
     "data": {
      "text/plain": [
       "<AxesSubplot:>"
      ]
     },
     "execution_count": 45,
     "metadata": {},
     "output_type": "execute_result"
    },
    {
     "data": {
      "image/png": "[encoded data removed]",
      "text/plain": [
       "<Figure size 1440x1440 with 2 Axes>"
      ]
     },
     "metadata": {
      "needs_background": "light"
     },
     "output_type": "display_data"
    }
   ],
   "source": [
    "correlations=df.corr()\n",
    "f, ax= plt.subplots(figsize=(20,20))\n",
    "sns.heatmap(correlations, annot=True)"
   ]
  },
  {
   "cell_type": "markdown",
   "id": "5b59967f",
   "metadata": {},
   "source": [
    "This indicates\n",
    "- Parch(Parents/children) and SibSp(siblings/parents) have a strong positive correlation. Furthering the analysis that families tend to stick together\n",
    "- Survived and Fare have a positive correlation, indicating fare of the ticket plays an important role in the chance for survival. \n",
    "- There is a strong negative correlation between Survived and PClass, Pclass and age, age and sibsp, fare and Pclass"
   ]
  },
  {
   "cell_type": "markdown",
   "id": "0d4706a9",
   "metadata": {},
   "source": [
    "### Data Cleaning to remove null/missing values"
   ]
  },
  {
   "cell_type": "code",
   "execution_count": 55,
   "id": "b6026fe3",
   "metadata": {},
   "outputs": [
    {
     "data": {
      "text/plain": [
       "<AxesSubplot:xlabel='Survived', ylabel='Age'>"
      ]
     },
     "execution_count": 55,
     "metadata": {},
     "output_type": "execute_result"
    },
    {
     "data": {
      "image/png": "[encoded data removed]",
      "text/plain": [
       "<Figure size 432x288 with 1 Axes>"
      ]
     },
     "metadata": {
      "needs_background": "light"
     },
     "output_type": "display_data"
    }
   ],
   "source": [
    "#Getting the boxplot for Survived wrt age to decipher the mean to fill up the missing values in the Age column\n",
    "sns.boxplot(x=\"Survived\", y=\"Age\", data=df)"
   ]
  },
  {
   "cell_type": "markdown",
   "id": "89945cec",
   "metadata": {},
   "source": [
    "Getting the mean values of the ages for passengers who survived as well those who didn't to fill up the missing values. (The mean age for the passengers who didn't survive ~24, while the mean age for the passengers who did ~27)"
   ]
  },
  {
   "cell_type": "code",
   "execution_count": 68,
   "id": "382865b9",
   "metadata": {},
   "outputs": [],
   "source": [
    "def assign_value(cols):\n",
    "    Age=cols[0]\n",
    "    Survived=cols[1]\n",
    "    \n",
    "    if pd.isnull(Age):\n",
    "        \n",
    "        if Survived==0:\n",
    "            return 24\n",
    "        elif Survived==1:\n",
    "            return 27\n",
    "        \n",
    "    else:\n",
    "        return Age"
   ]
  },
  {
   "cell_type": "markdown",
   "id": "4464384e",
   "metadata": {},
   "source": [
    "Defining a function to get the mean ages for the both the conditions to fill up the missing values"
   ]
  },
  {
   "cell_type": "code",
   "execution_count": 69,
   "id": "9ce507bd",
   "metadata": {},
   "outputs": [],
   "source": [
    "df['Age']=df[['Age','Survived']].apply(assign_value, axis=1)"
   ]
  },
  {
   "cell_type": "code",
   "execution_count": 70,
   "id": "01cf9020",
   "metadata": {},
   "outputs": [
    {
     "data": {
      "text/plain": [
       "<AxesSubplot:ylabel='PassengerId'>"
      ]
     },
     "execution_count": 70,
     "metadata": {},
     "output_type": "execute_result"
    },
    {
     "data": {
      "image/png": "[encoded data removed]",
      "text/plain": [
       "<Figure size 432x288 with 1 Axes>"
      ]
     },
     "metadata": {
      "needs_background": "light"
     },
     "output_type": "display_data"
    }
   ],
   "source": [
    "#Getting a heatmap of the columns\n",
    "sns.heatmap(df.isnull(), yticklabels=False, cbar=False,cmap='Blues')"
   ]
  },
  {
   "cell_type": "markdown",
   "id": "bac26b6d",
   "metadata": {},
   "source": [
    "The null values in Age column is filled with the assign_value() function"
   ]
  },
  {
   "cell_type": "code",
   "execution_count": 71,
   "id": "ce6a7e95",
   "metadata": {},
   "outputs": [],
   "source": [
    "#Dropping the Cabin variable since we are not performing feature engineering here\n",
    "\n",
    "df.drop('Cabin', axis=1, inplace=True)"
   ]
  },
  {
   "cell_type": "code",
   "execution_count": 54,
   "id": "e23cf6f4",
   "metadata": {},
   "outputs": [
    {
     "data": {
      "text/plain": [
       "<AxesSubplot:ylabel='PassengerId'>"
      ]
     },
     "execution_count": 54,
     "metadata": {},
     "output_type": "execute_result"
    },
    {
     "data": {
      "image/png": "[encoded data removed]",
      "text/plain": [
       "<Figure size 432x288 with 1 Axes>"
      ]
     },
     "metadata": {
      "needs_background": "light"
     },
     "output_type": "display_data"
    }
   ],
   "source": [
    "#Getting a heatmap of the missing values in each variables(columns)\n",
    "sns.heatmap(df.isnull(), yticklabels=False, cbar=False,cmap='Blues')"
   ]
  },
  {
   "cell_type": "markdown",
   "id": "e0983928",
   "metadata": {},
   "source": [
    "### K Means Clustering"
   ]
  },
  {
   "cell_type": "code",
   "execution_count": 72,
   "id": "39a6274d",
   "metadata": {},
   "outputs": [],
   "source": [
    "#Getting the Age column from the numerical DataFrame as age is the only normalized variable. \n",
    "df_age=df_num[['Age']]\n"
   ]
  },
  {
   "cell_type": "code",
   "execution_count": 97,
   "id": "2071601a",
   "metadata": {},
   "outputs": [
    {
     "data": {
      "text/plain": [
       "(891, 1)"
      ]
     },
     "execution_count": 97,
     "metadata": {},
     "output_type": "execute_result"
    }
   ],
   "source": [
    "#Scaling the data to standard fit the Age feature\n",
    "scaler=StandardScaler()\n",
    "df_scaled= scaler.fit_transform(df_age)\n",
    "df_scaled.shape"
   ]
  },
  {
   "cell_type": "markdown",
   "id": "14d8d7e2",
   "metadata": {},
   "source": [
    "891 rows and 1 feature"
   ]
  },
  {
   "cell_type": "code",
   "execution_count": 75,
   "id": "8879bb75",
   "metadata": {},
   "outputs": [
    {
     "data": {
      "text/plain": [
       "array([[-0.53037664],\n",
       "       [ 0.57183099],\n",
       "       [-0.25482473],\n",
       "       [ 0.36516706],\n",
       "       [ 0.36516706],\n",
       "       [        nan],\n",
       "       [ 1.67403863],\n",
       "       [-1.90813618],\n",
       "       [-0.18593675],\n",
       "       [-1.08148046],\n",
       "       [-1.77036023],\n",
       "       [ 1.94959054],\n",
       "       [-0.6681526 ],\n",
       "       [ 0.64071897],\n",
       "       [-1.08148046],\n",
       "       [ 1.74292661],\n",
       "       [-1.90813618],\n",
       "       [        nan],\n",
       "       [ 0.08961515],\n",
       "       [        nan],\n",
       "       [ 0.36516706],\n",
       "       [ 0.29627909],\n",
       "       [-1.01259248],\n",
       "       [-0.11704878],\n",
       "       [-1.49480832],\n",
       "       [ 0.57183099],\n",
       "       [        nan],\n",
       "       [-0.73704057],\n",
       "       [        nan],\n",
       "       [        nan],\n",
       "       [ 0.70960695],\n",
       "       [        nan],\n",
       "       [        nan],\n",
       "       [ 2.50069435],\n",
       "       [-0.11704878],\n",
       "       [ 0.8473829 ],\n",
       "       [        nan],\n",
       "       [-0.59926462],\n",
       "       [-0.80592855],\n",
       "       [-1.08148046],\n",
       "       [ 0.70960695],\n",
       "       [-0.18593675],\n",
       "       [        nan],\n",
       "       [-1.83924821],\n",
       "       [-0.73704057],\n",
       "       [        nan],\n",
       "       [        nan],\n",
       "       [        nan],\n",
       "       [        nan],\n",
       "       [-0.80592855],\n",
       "       [-1.5636963 ],\n",
       "       [-0.59926462],\n",
       "       [ 1.32959874],\n",
       "       [-0.0481608 ],\n",
       "       [ 2.43180638],\n",
       "       [        nan],\n",
       "       [-0.59926462],\n",
       "       [-0.08260479],\n",
       "       [-1.70147225],\n",
       "       [-1.28814439],\n",
       "       [-0.53037664],\n",
       "       [ 0.57183099],\n",
       "       [ 1.05404683],\n",
       "       [-1.77036023],\n",
       "       [        nan],\n",
       "       [        nan],\n",
       "       [-0.0481608 ],\n",
       "       [-0.73704057],\n",
       "       [-0.87481653],\n",
       "       [-0.25482473],\n",
       "       [ 0.15850313],\n",
       "       [-0.9437045 ],\n",
       "       [-0.59926462],\n",
       "       [-0.25482473],\n",
       "       [ 0.15850313],\n",
       "       [-0.32371271],\n",
       "       [        nan],\n",
       "       [        nan],\n",
       "       [-1.98873512],\n",
       "       [ 0.02072718],\n",
       "       [-0.53037664],\n",
       "       [-0.0481608 ],\n",
       "       [        nan],\n",
       "       [-0.11704878],\n",
       "       [-0.87481653],\n",
       "       [ 0.22739111],\n",
       "       [-0.9437045 ],\n",
       "       [        nan],\n",
       "       [-0.46148866],\n",
       "       [-0.39260069],\n",
       "       [-0.0481608 ],\n",
       "       [-0.6681526 ],\n",
       "       [ 1.12293481],\n",
       "       [-0.25482473],\n",
       "       [ 2.01847851],\n",
       "       [        nan],\n",
       "       [ 2.84513424],\n",
       "       [-0.46148866],\n",
       "       [ 0.29627909],\n",
       "       [ 0.29627909],\n",
       "       [-0.11704878],\n",
       "       [        nan],\n",
       "       [-0.59926462],\n",
       "       [ 0.22739111],\n",
       "       [ 0.50294302],\n",
       "       [-0.11704878],\n",
       "       [-0.59926462],\n",
       "       [        nan],\n",
       "       [ 0.57183099],\n",
       "       [        nan],\n",
       "       [ 1.19182279],\n",
       "       [-1.04703647],\n",
       "       [-0.53037664],\n",
       "       [-0.6681526 ],\n",
       "       [-0.87481653],\n",
       "       [-0.59926462],\n",
       "       [ 2.81069025],\n",
       "       [-0.0481608 ],\n",
       "       [-0.39260069],\n",
       "       [-1.90813618],\n",
       "       [-0.59926462],\n",
       "       [        nan],\n",
       "       [ 0.19294712],\n",
       "       [ 0.19294712],\n",
       "       [ 1.67403863],\n",
       "       [-1.21925641],\n",
       "       [        nan],\n",
       "       [-0.39260069],\n",
       "       [        nan],\n",
       "       [ 1.05404683],\n",
       "       [ 0.22739111],\n",
       "       [-0.6681526 ],\n",
       "       [ 1.19182279],\n",
       "       [-0.0481608 ],\n",
       "       [-0.32371271],\n",
       "       [-0.46148866],\n",
       "       [-0.73704057],\n",
       "       [ 0.50294302],\n",
       "       [-0.9437045 ],\n",
       "       [-0.39260069],\n",
       "       [        nan],\n",
       "       [-0.53037664],\n",
       "       [-0.39260069],\n",
       "       [-0.73704057],\n",
       "       [-0.80592855],\n",
       "       [-0.73704057],\n",
       "       [-0.18593675],\n",
       "       [-1.42592034],\n",
       "       [ 0.46849903],\n",
       "       [ 0.8473829 ],\n",
       "       [ 1.4673747 ],\n",
       "       [-0.53037664],\n",
       "       [ 1.77737059],\n",
       "       [ 0.74405094],\n",
       "       [        nan],\n",
       "       [ 1.4673747 ],\n",
       "       [-0.9437045 ],\n",
       "       [ 0.02072718],\n",
       "       [        nan],\n",
       "       [        nan],\n",
       "       [ 0.98515886],\n",
       "       [ 0.70960695],\n",
       "       [-0.25482473],\n",
       "       [-0.87481653],\n",
       "       [-1.97702416],\n",
       "       [-1.42592034],\n",
       "       [        nan],\n",
       "       [ 1.05404683],\n",
       "       [        nan],\n",
       "       [-0.11704878],\n",
       "       [ 2.15625447],\n",
       "       [-1.77036023],\n",
       "       [-1.97702416],\n",
       "       [-0.59926462],\n",
       "       [ 1.81181458],\n",
       "       [-0.80592855],\n",
       "       [        nan],\n",
       "       [ 1.39848672],\n",
       "       [ 0.02072718],\n",
       "       [ 0.43405504],\n",
       "       [        nan],\n",
       "       [        nan],\n",
       "       [-1.42592034],\n",
       "       [-1.97702416],\n",
       "       [-1.77036023],\n",
       "       [        nan],\n",
       "       [        nan],\n",
       "       [ 1.05404683],\n",
       "       [ 0.70960695],\n",
       "       [ 0.43405504],\n",
       "       [ 0.15850313],\n",
       "       [-0.73704057],\n",
       "       [-0.73704057],\n",
       "       [-1.83924821],\n",
       "       [ 0.98515886],\n",
       "       [ 1.94959054],\n",
       "       [        nan],\n",
       "       [ 0.8473829 ],\n",
       "       [        nan],\n",
       "       [-0.39260069],\n",
       "       [-0.11704878],\n",
       "       [        nan],\n",
       "       [ 0.29627909],\n",
       "       [ 1.08849082],\n",
       "       [-0.80592855],\n",
       "       [-1.90813618],\n",
       "       [ 0.15850313],\n",
       "       [-0.25482473],\n",
       "       [-0.9437045 ],\n",
       "       [ 0.70960695],\n",
       "       [-0.39260069],\n",
       "       [ 0.36516706],\n",
       "       [-0.53037664],\n",
       "       [ 0.02072718],\n",
       "       [        nan],\n",
       "       [ 0.08961515],\n",
       "       [-0.18593675],\n",
       "       [ 0.8473829 ],\n",
       "       [ 0.15850313],\n",
       "       [ 0.02072718],\n",
       "       [-0.9437045 ],\n",
       "       [-0.18593675],\n",
       "       [ 1.4673747 ],\n",
       "       [        nan],\n",
       "       [ 0.57183099],\n",
       "       [-0.53037664],\n",
       "       [-0.73704057],\n",
       "       [-0.63370861],\n",
       "       [-0.80592855],\n",
       "       [        nan],\n",
       "       [ 0.36516706],\n",
       "       [-0.0481608 ],\n",
       "       [ 2.01847851],\n",
       "       [-1.70147225],\n",
       "       [-0.39260069],\n",
       "       [        nan],\n",
       "       [ 0.98515886],\n",
       "       [-1.49480832],\n",
       "       [-0.73704057],\n",
       "       [ 0.22739111],\n",
       "       [        nan],\n",
       "       [        nan],\n",
       "       [-0.0481608 ],\n",
       "       [-0.53037664],\n",
       "       [ 0.02072718],\n",
       "       [ 0.98515886],\n",
       "       [-0.32371271],\n",
       "       [-0.39260069],\n",
       "       [ 0.50294302],\n",
       "       [ 1.67403863],\n",
       "       [        nan],\n",
       "       [-0.0481608 ],\n",
       "       [ 2.22514245],\n",
       "       [ 0.02072718],\n",
       "       [ 0.77849493],\n",
       "       [-0.0481608 ],\n",
       "       [        nan],\n",
       "       [ 0.02072718],\n",
       "       [ 0.36516706],\n",
       "       [ 1.39848672],\n",
       "       [        nan],\n",
       "       [-1.83924821],\n",
       "       [ 1.53626267],\n",
       "       [ 0.70960695],\n",
       "       [        nan],\n",
       "       [ 0.43405504],\n",
       "       [-0.9437045 ],\n",
       "       [-0.32371271],\n",
       "       [ 1.94959054],\n",
       "       [ 0.36516706],\n",
       "       [        nan],\n",
       "       [-0.32371271],\n",
       "       [ 0.77849493],\n",
       "       [ 0.50294302],\n",
       "       [        nan],\n",
       "       [ 2.29403042],\n",
       "       [ 1.05404683],\n",
       "       [        nan],\n",
       "       [-1.5636963 ],\n",
       "       [ 0.36516706],\n",
       "       [ 2.43180638],\n",
       "       [-0.11704878],\n",
       "       [-0.9437045 ],\n",
       "       [-0.73704057],\n",
       "       [        nan],\n",
       "       [ 0.22739111],\n",
       "       [ 0.02072718],\n",
       "       [-0.53037664],\n",
       "       [ 0.8473829 ],\n",
       "       [-0.53037664],\n",
       "       [-0.25482473],\n",
       "       [-0.73704057],\n",
       "       [ 0.43405504],\n",
       "       [-0.39260069],\n",
       "       [-0.39260069],\n",
       "       [        nan],\n",
       "       [-0.42704467],\n",
       "       [-1.90813618],\n",
       "       [        nan],\n",
       "       [ 1.39848672],\n",
       "       [        nan],\n",
       "       [        nan],\n",
       "       [-0.73704057],\n",
       "       [        nan],\n",
       "       [        nan],\n",
       "       [-1.9825352 ],\n",
       "       [        nan],\n",
       "       [-0.87481653],\n",
       "       [ 0.02072718],\n",
       "       [ 0.02072718],\n",
       "       [-0.39260069],\n",
       "       [-0.80592855],\n",
       "       [-0.25482473],\n",
       "       [-0.11704878],\n",
       "       [ 0.91627088],\n",
       "       [-0.25482473],\n",
       "       [-0.39260069],\n",
       "       [ 1.67403863],\n",
       "       [ 0.08961515],\n",
       "       [ 0.70960695],\n",
       "       [-0.53037664],\n",
       "       [-0.18593675],\n",
       "       [ 0.02072718],\n",
       "       [-0.53037664],\n",
       "       [        nan],\n",
       "       [ 0.43405504],\n",
       "       [ 2.15625447],\n",
       "       [ 0.43405504],\n",
       "       [ 0.08961515],\n",
       "       [-0.9437045 ],\n",
       "       [        nan],\n",
       "       [ 1.08849082],\n",
       "       [ 0.57183099],\n",
       "       [-0.9437045 ],\n",
       "       [        nan],\n",
       "       [        nan],\n",
       "       [-0.0481608 ],\n",
       "       [ 0.77849493],\n",
       "       [ 1.05404683],\n",
       "       [ 1.05404683],\n",
       "       [-1.90813618],\n",
       "       [-0.39260069],\n",
       "       [-0.11704878],\n",
       "       [-0.32371271],\n",
       "       [ 0.43405504],\n",
       "       [-0.39260069],\n",
       "       [ 0.70960695],\n",
       "       [        nan],\n",
       "       [-1.83924821],\n",
       "       [ 0.8473829 ],\n",
       "       [-0.46148866],\n",
       "       [        nan],\n",
       "       [-1.01259248],\n",
       "       [-0.32371271],\n",
       "       [        nan],\n",
       "       [-0.11704878],\n",
       "       [-0.53037664],\n",
       "       [ 0.57183099],\n",
       "       [        nan],\n",
       "       [        nan],\n",
       "       [ 0.70960695],\n",
       "       [-0.0481608 ],\n",
       "       [ 1.05404683],\n",
       "       [ 0.36516706],\n",
       "       [        nan],\n",
       "       [ 0.02072718],\n",
       "       [ 2.08736649],\n",
       "       [        nan],\n",
       "       [        nan],\n",
       "       [-0.39260069],\n",
       "       [-0.32371271],\n",
       "       [-0.80592855],\n",
       "       [-0.73704057],\n",
       "       [-0.53037664],\n",
       "       [-1.83924821],\n",
       "       [        nan],\n",
       "       [-0.53037664],\n",
       "       [-0.18593675],\n",
       "       [-0.6681526 ],\n",
       "       [-0.73704057],\n",
       "       [ 0.8473829 ],\n",
       "       [-1.97702416],\n",
       "       [ 0.15850313],\n",
       "       [ 0.36516706],\n",
       "       [        nan],\n",
       "       [-0.80592855],\n",
       "       [-1.97702416],\n",
       "       [ 0.43405504],\n",
       "       [        nan],\n",
       "       [-0.87481653],\n",
       "       [ 0.43405504],\n",
       "       [-0.59926462],\n",
       "       [-0.11704878],\n",
       "       [-0.46148866],\n",
       "       [-0.39260069],\n",
       "       [-0.53037664],\n",
       "       [ 0.08961515],\n",
       "       [ 1.12293481],\n",
       "       [-0.46148866],\n",
       "       [-0.11704878],\n",
       "       [ 0.64071897],\n",
       "       [-0.25482473],\n",
       "       [-0.59926462],\n",
       "       [-0.11704878],\n",
       "       [-0.6681526 ],\n",
       "       [ 0.29627909],\n",
       "       [ 1.4673747 ],\n",
       "       [-1.83924821],\n",
       "       [-0.59926462],\n",
       "       [        nan],\n",
       "       [        nan],\n",
       "       [        nan],\n",
       "       [ 0.22739111],\n",
       "       [        nan],\n",
       "       [ 0.98515886],\n",
       "       [        nan],\n",
       "       [ 0.29627909],\n",
       "       [-0.80592855],\n",
       "       [ 0.02072718],\n",
       "       [-1.35703237],\n",
       "       [        nan],\n",
       "       [-0.59926462],\n",
       "       [-0.0481608 ],\n",
       "       [-0.11704878],\n",
       "       [-0.80592855],\n",
       "       [        nan],\n",
       "       [-0.11704878],\n",
       "       [-0.73704057],\n",
       "       [        nan],\n",
       "       [ 0.15850313],\n",
       "       [-0.11704878],\n",
       "       [        nan],\n",
       "       [ 0.8473829 ],\n",
       "       [-0.87481653],\n",
       "       [ 1.39848672],\n",
       "       [-1.08148046],\n",
       "       [-0.59926462],\n",
       "       [-0.39260069],\n",
       "       [ 2.3629184 ],\n",
       "       [ 0.08961515],\n",
       "       [ 1.05404683],\n",
       "       [-0.6681526 ],\n",
       "       [-0.32371271],\n",
       "       [-0.11704878],\n",
       "       [        nan],\n",
       "       [-1.77036023],\n",
       "       [-1.15036844],\n",
       "       [ 0.29627909],\n",
       "       [-1.70147225],\n",
       "       [ 1.53626267],\n",
       "       [ 0.43405504],\n",
       "       [        nan],\n",
       "       [ 0.02072718],\n",
       "       [ 1.32959874],\n",
       "       [        nan],\n",
       "       [-0.0481608 ],\n",
       "       [ 2.43180638],\n",
       "       [        nan],\n",
       "       [ 1.39848672],\n",
       "       [        nan],\n",
       "       [ 1.26071077],\n",
       "       [ 0.29627909],\n",
       "       [ 1.19182279],\n",
       "       [ 1.26071077],\n",
       "       [        nan],\n",
       "       [ 0.57183099],\n",
       "       [        nan],\n",
       "       [ 1.81181458],\n",
       "       [        nan],\n",
       "       [-1.99424616],\n",
       "       [        nan],\n",
       "       [ 0.57183099],\n",
       "       [ 0.22739111],\n",
       "       [-0.46148866],\n",
       "       [-0.53037664],\n",
       "       [        nan],\n",
       "       [ 0.29627909],\n",
       "       [-0.0481608 ],\n",
       "       [-0.53037664],\n",
       "       [-1.90813618],\n",
       "       [-1.42592034],\n",
       "       [        nan],\n",
       "       [ 1.39848672],\n",
       "       [ 2.29403042],\n",
       "       [-0.32371271],\n",
       "       [        nan],\n",
       "       [ 0.36516706],\n",
       "       [ 1.94959054],\n",
       "       [ 0.02072718],\n",
       "       [-1.42592034],\n",
       "       [        nan],\n",
       "       [-0.59926462],\n",
       "       [ 1.74292661],\n",
       "       [ 2.84513424],\n",
       "       [-0.59926462],\n",
       "       [        nan],\n",
       "       [ 1.67403863],\n",
       "       [        nan],\n",
       "       [-0.32371271],\n",
       "       [-0.39260069],\n",
       "       [-0.87481653],\n",
       "       [-0.59926462],\n",
       "       [        nan],\n",
       "       [ 0.50294302],\n",
       "       [-0.9437045 ],\n",
       "       [-0.80592855],\n",
       "       [ 0.22739111],\n",
       "       [        nan],\n",
       "       [-0.11704878],\n",
       "       [-0.25482473],\n",
       "       [-0.0481608 ],\n",
       "       [        nan],\n",
       "       [ 0.43405504],\n",
       "       [ 1.67403863],\n",
       "       [-0.39260069],\n",
       "       [ 1.19182279],\n",
       "       [ 0.29627909],\n",
       "       [        nan],\n",
       "       [ 0.43405504],\n",
       "       [ 0.15850313],\n",
       "       [ 0.02072718],\n",
       "       [-0.53037664],\n",
       "       [        nan],\n",
       "       [ 0.98515886],\n",
       "       [        nan],\n",
       "       [ 0.74405094],\n",
       "       [ 1.39848672],\n",
       "       [        nan],\n",
       "       [ 0.64071897],\n",
       "       [-0.46148866],\n",
       "       [-1.90813618],\n",
       "       [        nan],\n",
       "       [-0.87481653],\n",
       "       [        nan],\n",
       "       [ 0.02072718],\n",
       "       [-1.5636963 ],\n",
       "       [ 1.05404683],\n",
       "       [ 0.02072718],\n",
       "       [        nan],\n",
       "       [-0.53037664],\n",
       "       [ 0.43405504],\n",
       "       [-1.42592034],\n",
       "       [-1.28814439],\n",
       "       [ 0.15850313],\n",
       "       [ 1.39848672],\n",
       "       [ 2.3629184 ],\n",
       "       [-0.73704057],\n",
       "       [        nan],\n",
       "       [ 0.22739111],\n",
       "       [-1.49480832],\n",
       "       [-0.87481653],\n",
       "       [-0.18593675],\n",
       "       [        nan],\n",
       "       [-0.53037664],\n",
       "       [-0.53037664],\n",
       "       [ 2.22514245],\n",
       "       [ 1.26071077],\n",
       "       [        nan],\n",
       "       [ 0.64071897],\n",
       "       [ 0.43405504],\n",
       "       [        nan],\n",
       "       [ 0.70960695],\n",
       "       [-0.11704878],\n",
       "       [        nan],\n",
       "       [        nan],\n",
       "       [-0.39260069],\n",
       "       [-0.73704057],\n",
       "       [-0.0481608 ],\n",
       "       [        nan],\n",
       "       [ 0.15850313],\n",
       "       [ 2.22514245],\n",
       "       [ 1.60515065],\n",
       "       [ 0.43405504],\n",
       "       [        nan],\n",
       "       [-0.9437045 ],\n",
       "       [-0.73704057],\n",
       "       [ 0.29627909],\n",
       "       [ 0.64071897],\n",
       "       [        nan],\n",
       "       [ 0.15850313],\n",
       "       [-0.32371271],\n",
       "       [ 0.64071897],\n",
       "       [ 1.67403863],\n",
       "       [ 0.43405504],\n",
       "       [        nan],\n",
       "       [-0.80592855],\n",
       "       [ 1.19182279],\n",
       "       [ 2.08736649],\n",
       "       [-0.53037664],\n",
       "       [        nan],\n",
       "       [ 0.36516706],\n",
       "       [ 1.53626267],\n",
       "       [ 1.19182279],\n",
       "       [        nan],\n",
       "       [ 0.50294302],\n",
       "       [ 0.43405504],\n",
       "       [        nan],\n",
       "       [ 1.32959874],\n",
       "       [        nan],\n",
       "       [ 1.32959874],\n",
       "       [-0.39260069],\n",
       "       [        nan],\n",
       "       [        nan],\n",
       "       [ 0.98515886],\n",
       "       [ 0.36516706],\n",
       "       [ 0.43405504],\n",
       "       [ 0.02072718],\n",
       "       [-0.18593675],\n",
       "       [-0.53037664],\n",
       "       [ 0.70960695],\n",
       "       [ 0.64071897],\n",
       "       [        nan],\n",
       "       [        nan],\n",
       "       [        nan],\n",
       "       [ 0.36516706],\n",
       "       [-0.39260069],\n",
       "       [ 0.29627909],\n",
       "       [-0.25482473],\n",
       "       [-1.77036023],\n",
       "       [-0.25482473],\n",
       "       [-0.18593675],\n",
       "       [ 0.8473829 ],\n",
       "       [-0.6681526 ],\n",
       "       [-0.59926462],\n",
       "       [-0.59926462],\n",
       "       [ 2.15625447],\n",
       "       [ 1.88070256],\n",
       "       [-0.59926462],\n",
       "       [-0.25482473],\n",
       "       [        nan],\n",
       "       [ 3.46512604],\n",
       "       [ 1.4673747 ],\n",
       "       [ 0.15850313],\n",
       "       [        nan],\n",
       "       [-1.42592034],\n",
       "       [-0.11704878],\n",
       "       [ 0.15850313],\n",
       "       [ 0.08961515],\n",
       "       [ 0.77849493],\n",
       "       [        nan],\n",
       "       [-0.6681526 ],\n",
       "       [-0.39260069],\n",
       "       [-1.90813618],\n",
       "       [        nan],\n",
       "       [-1.99424616],\n",
       "       [ 1.26071077],\n",
       "       [-0.73704057],\n",
       "       [ 1.81181458],\n",
       "       [        nan],\n",
       "       [-0.46148866],\n",
       "       [        nan],\n",
       "       [-0.80592855],\n",
       "       [-0.59926462],\n",
       "       [        nan],\n",
       "       [-0.80592855],\n",
       "       [-0.39260069],\n",
       "       [        nan],\n",
       "       [ 0.15850313],\n",
       "       [-0.46148866],\n",
       "       [ 1.94959054],\n",
       "       [ 1.39848672],\n",
       "       [ 0.70960695],\n",
       "       [ 1.19182279],\n",
       "       [ 0.43405504],\n",
       "       [-0.6681526 ],\n",
       "       [ 0.15850313],\n",
       "       [-0.32371271],\n",
       "       [        nan],\n",
       "       [ 0.91627088],\n",
       "       [        nan],\n",
       "       [ 0.70960695],\n",
       "       [ 0.08961515],\n",
       "       [ 2.77624626],\n",
       "       [ 0.08961515],\n",
       "       [        nan],\n",
       "       [-0.80592855],\n",
       "       [-0.3581567 ],\n",
       "       [-0.80592855],\n",
       "       [ 0.91627088],\n",
       "       [ 0.43405504],\n",
       "       [        nan],\n",
       "       [-0.18593675],\n",
       "       [-0.6681526 ],\n",
       "       [-1.08148046],\n",
       "       [ 2.08736649],\n",
       "       [-0.32371271],\n",
       "       [-1.08148046],\n",
       "       [-0.73704057],\n",
       "       [-0.80592855],\n",
       "       [-1.01259248],\n",
       "       [ 0.08961515],\n",
       "       [-1.77036023],\n",
       "       [        nan],\n",
       "       [-0.32371271],\n",
       "       [ 2.08736649],\n",
       "       [ 1.53626267],\n",
       "       [ 0.98515886],\n",
       "       [        nan],\n",
       "       [ 1.32959874],\n",
       "       [ 0.8473829 ],\n",
       "       [-0.80592855],\n",
       "       [ 0.36516706],\n",
       "       [-0.80592855],\n",
       "       [-0.32371271],\n",
       "       [-0.25482473],\n",
       "       [ 0.64071897],\n",
       "       [ 1.05404683],\n",
       "       [ 0.8473829 ],\n",
       "       [-0.53037664],\n",
       "       [        nan],\n",
       "       [-0.39260069],\n",
       "       [        nan],\n",
       "       [ 1.26071077],\n",
       "       [-0.0481608 ],\n",
       "       [ 1.53626267],\n",
       "       [-0.73704057],\n",
       "       [ 0.57183099],\n",
       "       [-0.18593675],\n",
       "       [        nan],\n",
       "       [ 0.22739111],\n",
       "       [-1.63258428],\n",
       "       [-0.87481653],\n",
       "       [ 0.29627909],\n",
       "       [ 1.39848672],\n",
       "       [-0.18593675],\n",
       "       [-0.6681526 ],\n",
       "       [ 0.02072718],\n",
       "       [        nan],\n",
       "       [-0.32371271],\n",
       "       [-0.32371271],\n",
       "       [-0.0481608 ],\n",
       "       [-1.28814439],\n",
       "       [        nan],\n",
       "       [-0.46148866],\n",
       "       [-0.46148866],\n",
       "       [-0.08260479],\n",
       "       [ 1.26071077],\n",
       "       [ 0.36516706],\n",
       "       [        nan],\n",
       "       [        nan],\n",
       "       [        nan],\n",
       "       [ 0.43405504],\n",
       "       [-0.59926462],\n",
       "       [-0.39260069],\n",
       "       [ 0.08961515],\n",
       "       [ 2.77624626],\n",
       "       [-0.9437045 ],\n",
       "       [ 0.02072718],\n",
       "       [-0.73704057],\n",
       "       [ 0.08961515],\n",
       "       [-1.77036023],\n",
       "       [-1.63258428],\n",
       "       [ 0.22739111],\n",
       "       [-0.46148866],\n",
       "       [ 1.26071077],\n",
       "       [-1.99975719],\n",
       "       [-0.11704878],\n",
       "       [-0.80592855],\n",
       "       [ 0.29627909],\n",
       "       [ 0.22739111],\n",
       "       [        nan],\n",
       "       [ 0.77849493],\n",
       "       [-0.6681526 ],\n",
       "       [ 0.43405504],\n",
       "       [-0.9437045 ],\n",
       "       [ 1.4673747 ],\n",
       "       [        nan],\n",
       "       [ 0.05517117],\n",
       "       [        nan],\n",
       "       [ 0.15850313],\n",
       "       [-0.39260069],\n",
       "       [ 1.26071077],\n",
       "       [ 1.88070256],\n",
       "       [        nan],\n",
       "       [ 1.67403863],\n",
       "       [-0.80592855],\n",
       "       [        nan],\n",
       "       [-1.70147225],\n",
       "       [        nan],\n",
       "       [ 0.91627088],\n",
       "       [-1.15036844],\n",
       "       [-0.87481653],\n",
       "       [-0.0481608 ],\n",
       "       [        nan],\n",
       "       [-0.32371271],\n",
       "       [-0.32371271],\n",
       "       [-0.80592855],\n",
       "       [-1.49480832],\n",
       "       [-1.97702416],\n",
       "       [ 1.12293481],\n",
       "       [        nan],\n",
       "       [-0.9437045 ],\n",
       "       [        nan],\n",
       "       [        nan],\n",
       "       [-0.32371271],\n",
       "       [ 0.64071897],\n",
       "       [ 1.32959874],\n",
       "       [ 0.08961515],\n",
       "       [ 0.02072718],\n",
       "       [ 0.02072718],\n",
       "       [ 0.29627909],\n",
       "       [ 0.08961515],\n",
       "       [-1.28814439],\n",
       "       [-2.01697919],\n",
       "       [-0.18593675],\n",
       "       [ 0.08961515],\n",
       "       [ 0.64071897],\n",
       "       [-0.80592855],\n",
       "       [ 0.64071897],\n",
       "       [ 0.22739111],\n",
       "       [-0.25482473],\n",
       "       [ 0.64071897],\n",
       "       [ 0.36516706],\n",
       "       [-1.63258428],\n",
       "       [ 0.05517117],\n",
       "       [        nan],\n",
       "       [-0.46148866],\n",
       "       [ 0.08961515],\n",
       "       [ 0.91627088],\n",
       "       [-1.35703237],\n",
       "       [ 1.53626267],\n",
       "       [-0.18593675],\n",
       "       [ 0.57183099],\n",
       "       [-0.18593675],\n",
       "       [-1.90813618],\n",
       "       [        nan],\n",
       "       [        nan],\n",
       "       [-1.97702416],\n",
       "       [        nan],\n",
       "       [ 2.22514245],\n",
       "       [-1.01259248],\n",
       "       [-1.98873512],\n",
       "       [        nan],\n",
       "       [-0.46148866],\n",
       "       [-0.80592855],\n",
       "       [ 0.64071897],\n",
       "       [-0.59926462],\n",
       "       [        nan],\n",
       "       [ 0.15850313],\n",
       "       [        nan],\n",
       "       [-0.6681526 ],\n",
       "       [-0.9437045 ],\n",
       "       [ 0.02072718],\n",
       "       [ 0.33072307],\n",
       "       [-0.87481653],\n",
       "       [ 0.8473829 ],\n",
       "       [        nan],\n",
       "       [ 0.36516706],\n",
       "       [-0.11704878],\n",
       "       [        nan],\n",
       "       [-1.77036023],\n",
       "       [ 3.05179817],\n",
       "       [-1.42592034],\n",
       "       [-0.9437045 ],\n",
       "       [ 0.98515886],\n",
       "       [-0.80592855],\n",
       "       [ 1.05404683],\n",
       "       [ 1.4673747 ],\n",
       "       [-0.39260069],\n",
       "       [        nan],\n",
       "       [ 0.77849493],\n",
       "       [-0.59926462],\n",
       "       [ 1.26071077],\n",
       "       [        nan],\n",
       "       [-0.39260069],\n",
       "       [ 0.8473829 ],\n",
       "       [-0.18593675],\n",
       "       [ 0.08961515],\n",
       "       [        nan],\n",
       "       [-1.77036023],\n",
       "       [-0.25482473],\n",
       "       [ 1.19182279],\n",
       "       [ 0.22739111],\n",
       "       [ 1.19182279],\n",
       "       [-0.11704878],\n",
       "       [-1.01259248],\n",
       "       [-0.6681526 ],\n",
       "       [-0.73704057],\n",
       "       [        nan],\n",
       "       [ 1.81181458],\n",
       "       [-0.32371271],\n",
       "       [ 0.22739111],\n",
       "       [-0.53037664],\n",
       "       [-0.11704878],\n",
       "       [-0.32371271],\n",
       "       [ 0.64071897],\n",
       "       [-0.18593675],\n",
       "       [-0.73704057],\n",
       "       [        nan],\n",
       "       [-0.25482473],\n",
       "       [ 0.15850313]])"
      ]
     },
     "execution_count": 75,
     "metadata": {},
     "output_type": "execute_result"
    }
   ],
   "source": [
    "df_scaled"
   ]
  },
  {
   "cell_type": "code",
   "execution_count": 89,
   "id": "1e6d5d85",
   "metadata": {},
   "outputs": [
    {
     "data": {
      "text/plain": [
       "True"
      ]
     },
     "execution_count": 89,
     "metadata": {},
     "output_type": "execute_result"
    }
   ],
   "source": [
    "df_age.isnull().any().any()"
   ]
  },
  {
   "cell_type": "code",
   "execution_count": 92,
   "id": "59d19347",
   "metadata": {},
   "outputs": [
    {
     "name": "stderr",
     "output_type": "stream",
     "text": [
      "C:\\Users\\allen\\AppData\\Local\\Temp\\ipykernel_17984\\2294340482.py:2: SettingWithCopyWarning: \n",
      "A value is trying to be set on a copy of a slice from a DataFrame\n",
      "\n",
      "See the caveats in the documentation: https://pandas.pydata.org/pandas-docs/stable/user_guide/indexing.html#returning-a-view-versus-a-copy\n",
      "  df_age.loc[(df_age['Age'].isnull()==True), 'Age']=df_age['Age'].mean()\n"
     ]
    }
   ],
   "source": [
    "#Filling up the missing elements with the mean of the Age Limit\n",
    "df_age.loc[(df_age['Age'].isnull()==True), 'Age']=df_age['Age'].mean()"
   ]
  },
  {
   "cell_type": "code",
   "execution_count": 93,
   "id": "1c8c5f25",
   "metadata": {},
   "outputs": [
    {
     "data": {
      "text/plain": [
       "False"
      ]
     },
     "execution_count": 93,
     "metadata": {},
     "output_type": "execute_result"
    }
   ],
   "source": [
    "df_age.isnull().any().any()"
   ]
  },
  {
   "cell_type": "code",
   "execution_count": 98,
   "id": "5eb86fca",
   "metadata": {},
   "outputs": [
    {
     "name": "stderr",
     "output_type": "stream",
     "text": [
      "C:\\Users\\allen\\anaconda3\\lib\\site-packages\\sklearn\\cluster\\_kmeans.py:1036: UserWarning: KMeans is known to have a memory leak on Windows with MKL, when there are less chunks than available threads. You can avoid it by setting the environment variable OMP_NUM_THREADS=4.\n",
      "  warnings.warn(\n"
     ]
    }
   ],
   "source": [
    "# Applying K Means to identify the clusters. Using kmeans.intertia_ we will calculate the distance between each data point and its centroid\n",
    "accumulator=[]\n",
    "range_values=range(1,5)\n",
    "for i in range_values:\n",
    "  kmeans= KMeans(n_clusters=i)\n",
    "  kmeans.fit(df_age)\n",
    "  accumulator.append(kmeans.inertia_)"
   ]
  },
  {
   "cell_type": "code",
   "execution_count": 114,
   "id": "5cd694a5",
   "metadata": {},
   "outputs": [
    {
     "data": {
      "image/png": "[encoded data removed]",
      "text/plain": [
       "<Figure size 432x288 with 1 Axes>"
      ]
     },
     "metadata": {
      "needs_background": "light"
     },
     "output_type": "display_data"
    }
   ],
   "source": [
    "plt.plot(accumulator,'bx-')\n",
    "plt.title('Finding the right number of clusters')\n",
    "plt.xlabel('Clusters')\n",
    "plt.ylabel('Within Cluster Sum of Squares')\n",
    "plt.show()"
   ]
  },
  {
   "cell_type": "code",
   "execution_count": 101,
   "id": "3187fd3d",
   "metadata": {},
   "outputs": [],
   "source": [
    "kmeans=KMeans(2)\n",
    "kmeans.fit(df_scaled)\n",
    "labels=kmeans.labels_"
   ]
  },
  {
   "cell_type": "code",
   "execution_count": 102,
   "id": "5e38829f",
   "metadata": {},
   "outputs": [
    {
     "data": {
      "text/plain": [
       "array([0, 1, 0, 0, 0, 0, 1, 0, 0, 0, 0, 1, 0, 1, 0, 1, 0, 0, 0, 0, 0, 0,\n",
       "       0, 0, 0, 1, 0, 0, 0, 0, 1, 0, 0, 1, 0, 1, 0, 0, 0, 0, 1, 0, 0, 0,\n",
       "       0, 0, 0, 0, 0, 0, 0, 0, 1, 0, 1, 0, 0, 0, 0, 0, 0, 1, 1, 0, 0, 0,\n",
       "       0, 0, 0, 0, 0, 0, 0, 0, 0, 0, 0, 0, 0, 0, 0, 0, 0, 0, 0, 0, 0, 0,\n",
       "       0, 0, 0, 0, 1, 0, 1, 0, 1, 0, 0, 0, 0, 0, 0, 0, 1, 0, 0, 0, 1, 0,\n",
       "       1, 0, 0, 0, 0, 0, 1, 0, 0, 0, 0, 0, 0, 0, 1, 0, 0, 0, 0, 1, 0, 0,\n",
       "       1, 0, 0, 0, 0, 1, 0, 0, 0, 0, 0, 0, 0, 0, 0, 0, 1, 1, 1, 0, 1, 1,\n",
       "       0, 1, 0, 0, 0, 0, 1, 1, 0, 0, 0, 0, 0, 1, 0, 0, 1, 0, 0, 0, 1, 0,\n",
       "       0, 1, 0, 0, 0, 0, 0, 0, 0, 0, 0, 1, 1, 0, 0, 0, 0, 0, 1, 1, 0, 1,\n",
       "       0, 0, 0, 0, 0, 1, 0, 0, 0, 0, 0, 1, 0, 0, 0, 0, 0, 0, 0, 1, 0, 0,\n",
       "       0, 0, 1, 0, 1, 0, 0, 0, 0, 0, 0, 0, 1, 0, 0, 0, 1, 0, 0, 0, 0, 0,\n",
       "       0, 0, 0, 1, 0, 0, 1, 1, 0, 0, 1, 0, 1, 0, 0, 0, 0, 1, 0, 0, 1, 1,\n",
       "       0, 0, 0, 0, 1, 0, 0, 0, 1, 1, 0, 1, 1, 0, 0, 0, 1, 0, 0, 0, 0, 0,\n",
       "       0, 0, 1, 0, 0, 0, 0, 0, 0, 0, 0, 0, 0, 1, 0, 0, 0, 0, 0, 0, 0, 0,\n",
       "       0, 0, 0, 0, 0, 0, 1, 0, 0, 1, 0, 1, 0, 0, 0, 0, 0, 0, 1, 0, 0, 0,\n",
       "       0, 1, 1, 0, 0, 0, 0, 1, 1, 1, 0, 0, 0, 0, 0, 0, 1, 0, 0, 1, 0, 0,\n",
       "       0, 0, 0, 0, 0, 1, 0, 0, 1, 0, 1, 0, 0, 0, 1, 0, 0, 0, 0, 0, 0, 0,\n",
       "       0, 0, 0, 0, 0, 0, 1, 0, 0, 0, 0, 0, 0, 0, 0, 0, 0, 0, 0, 0, 0, 0,\n",
       "       0, 1, 0, 0, 1, 0, 0, 0, 0, 0, 1, 0, 0, 0, 0, 0, 0, 0, 1, 0, 0, 0,\n",
       "       0, 0, 0, 0, 0, 0, 0, 0, 0, 0, 0, 0, 0, 0, 1, 0, 1, 0, 0, 0, 1, 0,\n",
       "       1, 0, 0, 0, 0, 0, 0, 0, 0, 1, 0, 0, 0, 1, 0, 0, 1, 0, 1, 0, 1, 0,\n",
       "       1, 1, 0, 1, 0, 1, 0, 0, 0, 1, 0, 0, 0, 0, 0, 0, 0, 0, 0, 0, 1, 1,\n",
       "       0, 0, 0, 1, 0, 0, 0, 0, 1, 1, 0, 0, 1, 0, 0, 0, 0, 0, 0, 1, 0, 0,\n",
       "       0, 0, 0, 0, 0, 0, 0, 1, 0, 1, 0, 0, 0, 0, 0, 0, 0, 1, 0, 1, 1, 0,\n",
       "       1, 0, 0, 0, 0, 0, 0, 0, 1, 0, 0, 0, 0, 0, 0, 0, 1, 1, 0, 0, 0, 0,\n",
       "       0, 0, 0, 0, 0, 1, 1, 0, 1, 0, 0, 1, 0, 0, 0, 0, 0, 0, 0, 0, 1, 1,\n",
       "       0, 0, 0, 0, 0, 1, 0, 0, 0, 1, 1, 0, 0, 0, 1, 1, 0, 0, 0, 1, 1, 0,\n",
       "       1, 0, 0, 1, 0, 1, 0, 0, 0, 1, 0, 0, 0, 0, 0, 1, 1, 0, 0, 0, 0, 0,\n",
       "       0, 0, 0, 0, 0, 1, 0, 0, 0, 1, 1, 0, 0, 0, 1, 1, 0, 0, 0, 0, 0, 0,\n",
       "       1, 0, 0, 0, 0, 0, 0, 1, 0, 1, 0, 0, 0, 0, 0, 0, 0, 0, 0, 0, 0, 1,\n",
       "       1, 1, 1, 0, 0, 0, 0, 0, 1, 0, 1, 0, 1, 0, 0, 0, 0, 0, 1, 0, 0, 0,\n",
       "       0, 0, 1, 0, 0, 0, 0, 0, 0, 0, 0, 0, 1, 1, 1, 0, 1, 1, 0, 0, 0, 0,\n",
       "       0, 1, 1, 1, 0, 0, 0, 0, 1, 0, 1, 0, 1, 0, 0, 0, 0, 0, 0, 1, 0, 0,\n",
       "       0, 0, 0, 0, 0, 0, 0, 0, 0, 0, 1, 0, 0, 0, 0, 0, 0, 0, 0, 1, 0, 0,\n",
       "       0, 0, 0, 0, 0, 0, 1, 0, 0, 0, 0, 0, 0, 1, 0, 0, 0, 1, 0, 0, 0, 0,\n",
       "       0, 1, 1, 0, 1, 0, 0, 0, 0, 1, 0, 0, 0, 0, 0, 0, 0, 0, 0, 1, 0, 0,\n",
       "       0, 0, 0, 1, 1, 0, 0, 0, 0, 0, 0, 0, 0, 0, 1, 0, 1, 0, 0, 1, 0, 0,\n",
       "       0, 0, 0, 0, 1, 0, 1, 0, 1, 0, 0, 0, 0, 0, 0, 1, 0, 0, 0, 0, 0, 1,\n",
       "       0, 0, 0, 0, 0, 0, 0, 0, 0, 1, 0, 0, 0, 0, 0, 1, 0, 0, 1, 0, 1, 1,\n",
       "       0, 0, 1, 0, 1, 0, 0, 1, 0, 0, 0, 0, 0, 1, 0, 1, 0, 0, 0, 0, 0, 1,\n",
       "       0, 0, 0, 0, 0, 1, 0, 0, 0, 0, 0])"
      ]
     },
     "execution_count": 102,
     "metadata": {},
     "output_type": "execute_result"
    }
   ],
   "source": [
    "#Getting the labels for the feature\n",
    "labels"
   ]
  },
  {
   "cell_type": "code",
   "execution_count": 103,
   "id": "ff232a61",
   "metadata": {},
   "outputs": [
    {
     "data": {
      "text/plain": [
       "(2, 1)"
      ]
     },
     "execution_count": 103,
     "metadata": {},
     "output_type": "execute_result"
    }
   ],
   "source": [
    "#Getting the shape of the centroid\n",
    "kmeans.cluster_centers_.shape"
   ]
  },
  {
   "cell_type": "code",
   "execution_count": 104,
   "id": "3818e629",
   "metadata": {},
   "outputs": [],
   "source": [
    "cluster_centers=pd.DataFrame(data=kmeans.cluster_centers_, columns=[df_age.columns])"
   ]
  },
  {
   "cell_type": "code",
   "execution_count": 105,
   "id": "fa5020ed",
   "metadata": {},
   "outputs": [
    {
     "data": {
      "text/html": [
       "<div>\n",
       "<style scoped>\n",
       "    .dataframe tbody tr th:only-of-type {\n",
       "        vertical-align: middle;\n",
       "    }\n",
       "\n",
       "    .dataframe tbody tr th {\n",
       "        vertical-align: top;\n",
       "    }\n",
       "\n",
       "    .dataframe thead tr th {\n",
       "        text-align: left;\n",
       "    }\n",
       "</style>\n",
       "<table border=\"1\" class=\"dataframe\">\n",
       "  <thead>\n",
       "    <tr>\n",
       "      <th></th>\n",
       "      <th>Age</th>\n",
       "    </tr>\n",
       "  </thead>\n",
       "  <tbody>\n",
       "    <tr>\n",
       "      <th>0</th>\n",
       "      <td>-0.399275</td>\n",
       "    </tr>\n",
       "    <tr>\n",
       "      <th>1</th>\n",
       "      <td>1.425105</td>\n",
       "    </tr>\n",
       "  </tbody>\n",
       "</table>\n",
       "</div>"
      ],
      "text/plain": [
       "        Age\n",
       "0 -0.399275\n",
       "1  1.425105"
      ]
     },
     "execution_count": 105,
     "metadata": {},
     "output_type": "execute_result"
    }
   ],
   "source": [
    "cluster_centers"
   ]
  },
  {
   "cell_type": "code",
   "execution_count": 106,
   "id": "6bbf5cf1",
   "metadata": {},
   "outputs": [
    {
     "data": {
      "text/html": [
       "<div>\n",
       "<style scoped>\n",
       "    .dataframe tbody tr th:only-of-type {\n",
       "        vertical-align: middle;\n",
       "    }\n",
       "\n",
       "    .dataframe tbody tr th {\n",
       "        vertical-align: top;\n",
       "    }\n",
       "\n",
       "    .dataframe thead tr th {\n",
       "        text-align: left;\n",
       "    }\n",
       "</style>\n",
       "<table border=\"1\" class=\"dataframe\">\n",
       "  <thead>\n",
       "    <tr>\n",
       "      <th></th>\n",
       "      <th>Age</th>\n",
       "    </tr>\n",
       "  </thead>\n",
       "  <tbody>\n",
       "    <tr>\n",
       "      <th>0</th>\n",
       "      <td>24.510652</td>\n",
       "    </tr>\n",
       "    <tr>\n",
       "      <th>1</th>\n",
       "      <td>48.217949</td>\n",
       "    </tr>\n",
       "  </tbody>\n",
       "</table>\n",
       "</div>"
      ],
      "text/plain": [
       "         Age\n",
       "0  24.510652\n",
       "1  48.217949"
      ]
     },
     "execution_count": 106,
     "metadata": {},
     "output_type": "execute_result"
    }
   ],
   "source": [
    "#Inverse Transformation to get the clusters for Age\n",
    "cluster_centers=scaler.inverse_transform(cluster_centers)\n",
    "cluster_centers= pd.DataFrame(data= cluster_centers, columns=[df_age.columns])\n",
    "cluster_centers"
   ]
  },
  {
   "cell_type": "code",
   "execution_count": 107,
   "id": "34ea26a2",
   "metadata": {},
   "outputs": [
    {
     "data": {
      "text/plain": [
       "(891,)"
      ]
     },
     "execution_count": 107,
     "metadata": {},
     "output_type": "execute_result"
    }
   ],
   "source": [
    "labels.shape"
   ]
  },
  {
   "cell_type": "code",
   "execution_count": 108,
   "id": "b876b1b6",
   "metadata": {},
   "outputs": [
    {
     "data": {
      "text/plain": [
       "1"
      ]
     },
     "execution_count": 108,
     "metadata": {},
     "output_type": "execute_result"
    }
   ],
   "source": [
    "labels.max()"
   ]
  },
  {
   "cell_type": "code",
   "execution_count": 109,
   "id": "1e5a681f",
   "metadata": {},
   "outputs": [
    {
     "data": {
      "text/plain": [
       "0"
      ]
     },
     "execution_count": 109,
     "metadata": {},
     "output_type": "execute_result"
    }
   ],
   "source": [
    "labels.min()"
   ]
  },
  {
   "cell_type": "code",
   "execution_count": 110,
   "id": "0787f8a9",
   "metadata": {},
   "outputs": [
    {
     "data": {
      "text/html": [
       "<div>\n",
       "<style scoped>\n",
       "    .dataframe tbody tr th:only-of-type {\n",
       "        vertical-align: middle;\n",
       "    }\n",
       "\n",
       "    .dataframe tbody tr th {\n",
       "        vertical-align: top;\n",
       "    }\n",
       "\n",
       "    .dataframe thead th {\n",
       "        text-align: right;\n",
       "    }\n",
       "</style>\n",
       "<table border=\"1\" class=\"dataframe\">\n",
       "  <thead>\n",
       "    <tr style=\"text-align: right;\">\n",
       "      <th></th>\n",
       "      <th>Age</th>\n",
       "      <th>cluster</th>\n",
       "    </tr>\n",
       "  </thead>\n",
       "  <tbody>\n",
       "    <tr>\n",
       "      <th>1</th>\n",
       "      <td>22.0</td>\n",
       "      <td>1.0</td>\n",
       "    </tr>\n",
       "    <tr>\n",
       "      <th>2</th>\n",
       "      <td>38.0</td>\n",
       "      <td>0.0</td>\n",
       "    </tr>\n",
       "    <tr>\n",
       "      <th>3</th>\n",
       "      <td>26.0</td>\n",
       "      <td>0.0</td>\n",
       "    </tr>\n",
       "    <tr>\n",
       "      <th>4</th>\n",
       "      <td>35.0</td>\n",
       "      <td>0.0</td>\n",
       "    </tr>\n",
       "    <tr>\n",
       "      <th>5</th>\n",
       "      <td>35.0</td>\n",
       "      <td>0.0</td>\n",
       "    </tr>\n",
       "  </tbody>\n",
       "</table>\n",
       "</div>"
      ],
      "text/plain": [
       "    Age  cluster\n",
       "1  22.0      1.0\n",
       "2  38.0      0.0\n",
       "3  26.0      0.0\n",
       "4  35.0      0.0\n",
       "5  35.0      0.0"
      ]
     },
     "execution_count": 110,
     "metadata": {},
     "output_type": "execute_result"
    }
   ],
   "source": [
    "#concatenate to identify the cluster to which Age belongs to\n",
    "df_cluster=pd.concat([df_age, pd.DataFrame({'cluster': labels})], axis=1)\n",
    "df_cluster.head()"
   ]
  },
  {
   "cell_type": "code",
   "execution_count": 116,
   "id": "3e4d8e67",
   "metadata": {},
   "outputs": [
    {
     "data": {
      "image/png": "[encoded data removed]",
      "text/plain": [
       "<Figure size 2520x360 with 2 Axes>"
      ]
     },
     "metadata": {
      "needs_background": "light"
     },
     "output_type": "display_data"
    }
   ],
   "source": [
    "# Plot histogram for clusters\n",
    "for i in df_age.columns: \n",
    "  plt.figure(figsize=(35,5))\n",
    "  for j in range(2):\n",
    "    plt.subplot(1,10, j+1)\n",
    "    cluster= df_cluster[df_cluster['cluster']==j]\n",
    "    cluster[i].hist(bins=20)\n",
    "    plt.title('{} \\n Cluster{}'.format(i,j))\n",
    "plt.show()"
   ]
  },
  {
   "cell_type": "markdown",
   "id": "15968674",
   "metadata": {},
   "source": [
    "Age has been grouped into 2 clusters. The distribution for both of them is shown above. "
   ]
  },
  {
   "cell_type": "code",
   "execution_count": null,
   "id": "f420ef73",
   "metadata": {},
   "outputs": [],
   "source": []
  }
 ],
 "metadata": {
  "kernelspec": {
   "display_name": "Python 3 (ipykernel)",
   "language": "python",
   "name": "python3"
  },
  "language_info": {
   "codemirror_mode": {
    "name": "ipython",
    "version": 3
   },
   "file_extension": ".py",
   "mimetype": "text/x-python",
   "name": "python",
   "nbconvert_exporter": "python",
   "pygments_lexer": "ipython3",
   "version": "3.9.12"
  }
 },
 "nbformat": 4,
 "nbformat_minor": 5
}
